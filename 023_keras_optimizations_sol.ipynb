{
  "cells": [
    {
      "cell_type": "code",
      "execution_count": 1,
      "metadata": {
        "id": "PTC5srJ2bYG9"
      },
      "outputs": [
        {
          "name": "stderr",
          "output_type": "stream",
          "text": [
            "2023-03-19 14:23:48.164387: I tensorflow/core/platform/cpu_feature_guard.cc:193] This TensorFlow binary is optimized with oneAPI Deep Neural Network Library (oneDNN) to use the following CPU instructions in performance-critical operations:  AVX2 AVX512F AVX512_VNNI FMA\n",
            "To enable them in other operations, rebuild TensorFlow with the appropriate compiler flags.\n"
          ]
        }
      ],
      "source": [
        "import numpy as np\n",
        "import pandas as pd\n",
        "import tensorflow as tf\n",
        "from tensorflow import keras \n",
        "from tensorflow.keras import layers\n",
        "#from tensorflow.keras import Sequential\n",
        "#from tensorflow.keras import Dense, Dropout\n",
        "from keras.models import Sequential\n",
        "from keras.layers import Dense, Dropout, Flatten, InputLayer, Reshape\n",
        "from sklearn.model_selection import train_test_split\n",
        "from sklearn.metrics import mean_absolute_error\n",
        "from sklearn.preprocessing import StandardScaler\n",
        "from keras import metrics\n",
        "\n",
        "from keras.utils import np_utils\n",
        "\n",
        "import matplotlib as mpl\n",
        "import matplotlib.pyplot as plt\n",
        "from sklearn.decomposition import TruncatedSVD\n",
        "import seaborn as sns"
      ]
    },
    {
      "cell_type": "code",
      "execution_count": 2,
      "metadata": {
        "id": "kt2r1tfRg0cj"
      },
      "outputs": [],
      "source": [
        "# Helper to plot loss\n",
        "def plot_loss(history):\n",
        "  plt.plot(history.history['loss'], label='loss')\n",
        "  plt.plot(history.history['val_loss'], label='val_loss')\n",
        "  plt.legend()\n",
        "  plt.grid(True)"
      ]
    },
    {
      "cell_type": "markdown",
      "metadata": {
        "id": "SS8tDLiFbYG_"
      },
      "source": [
        "# Keras and Tensorflow Optimizations\n",
        "\n",
        "There are several things that we can do to make our networks a bit better. Unfortunately for much of this there aren't definitive answers for \"what is the best choice\", so we do have to do some trial and error, but we can use some guidelines to get us started in the right direction. "
      ]
    },
    {
      "cell_type": "markdown",
      "metadata": {
        "id": "tQLYUA1XbYHB"
      },
      "source": [
        "## Load MNIST Data\n",
        "\n",
        "We can use the MNIST digit dataset for testing, since it is reasonably large. "
      ]
    },
    {
      "cell_type": "code",
      "execution_count": 3,
      "metadata": {
        "colab": {
          "base_uri": "https://localhost:8080/"
        },
        "id": "cGygrQlobYHC",
        "outputId": "e48ea85c-2032-4ddc-85bf-4a02dd76b7f4"
      },
      "outputs": [
        {
          "name": "stdout",
          "output_type": "stream",
          "text": [
            "(60000, 28, 28)\n"
          ]
        },
        {
          "name": "stderr",
          "output_type": "stream",
          "text": [
            "2023-03-19 14:24:11.100000: I tensorflow/core/platform/cpu_feature_guard.cc:193] This TensorFlow binary is optimized with oneAPI Deep Neural Network Library (oneDNN) to use the following CPU instructions in performance-critical operations:  AVX2 AVX512F AVX512_VNNI FMA\n",
            "To enable them in other operations, rebuild TensorFlow with the appropriate compiler flags.\n"
          ]
        },
        {
          "name": "stdout",
          "output_type": "stream",
          "text": [
            "Epoch 1/10\n",
            "1500/1500 [==============================] - 5s 3ms/step - loss: 0.2242 - accuracy: 0.9349 - val_loss: 0.1230 - val_accuracy: 0.9603\n",
            "Epoch 2/10\n",
            "1500/1500 [==============================] - 4s 3ms/step - loss: 0.0911 - accuracy: 0.9725 - val_loss: 0.1013 - val_accuracy: 0.9686\n",
            "Epoch 3/10\n",
            "1500/1500 [==============================] - 4s 3ms/step - loss: 0.0562 - accuracy: 0.9822 - val_loss: 0.0810 - val_accuracy: 0.9748\n",
            "Epoch 4/10\n",
            "1500/1500 [==============================] - 4s 3ms/step - loss: 0.0406 - accuracy: 0.9872 - val_loss: 0.0843 - val_accuracy: 0.9749\n",
            "Epoch 5/10\n",
            "1500/1500 [==============================] - 4s 3ms/step - loss: 0.0291 - accuracy: 0.9906 - val_loss: 0.0796 - val_accuracy: 0.9780\n",
            "Epoch 6/10\n",
            "1500/1500 [==============================] - 4s 3ms/step - loss: 0.0225 - accuracy: 0.9926 - val_loss: 0.1126 - val_accuracy: 0.9730\n",
            "Epoch 7/10\n",
            "1500/1500 [==============================] - 5s 3ms/step - loss: 0.0164 - accuracy: 0.9948 - val_loss: 0.0973 - val_accuracy: 0.9770\n",
            "Epoch 8/10\n",
            "1500/1500 [==============================] - 5s 3ms/step - loss: 0.0159 - accuracy: 0.9947 - val_loss: 0.0916 - val_accuracy: 0.9774\n",
            "Epoch 9/10\n",
            "1500/1500 [==============================] - 4s 3ms/step - loss: 0.0106 - accuracy: 0.9964 - val_loss: 0.1039 - val_accuracy: 0.9754\n",
            "Epoch 10/10\n",
            "1500/1500 [==============================] - 4s 3ms/step - loss: 0.0119 - accuracy: 0.9962 - val_loss: 0.1009 - val_accuracy: 0.9793\n",
            "313/313 [==============================] - 0s 1ms/step - loss: 0.0900 - accuracy: 0.9801\n"
          ]
        },
        {
          "data": {
            "image/png": "[encoded data removed]",
            "text/plain": [
              "<Figure size 432x288 with 1 Axes>"
            ]
          },
          "metadata": {
            "needs_background": "light"
          },
          "output_type": "display_data"
        }
      ],
      "source": [
        "# Load MNIST dataset\n",
        "mnist = keras.datasets.mnist\n",
        "(train_images, train_labels), (test_images, test_labels) = mnist.load_data()\n",
        "\n",
        "# Normalize the input image so that each pixel value is between 0 and 1.\n",
        "train_images = train_images / 255.0\n",
        "test_images = test_images / 255.0\n",
        "\n",
        "print(train_images.shape)\n",
        "\n",
        "train_labels = np_utils.to_categorical(train_labels)\n",
        "test_labels = np_utils.to_categorical(test_labels)\n",
        "\n",
        "model = keras.Sequential()\n",
        "model.add(InputLayer(input_shape=(28, 28)))\n",
        "model.add(Flatten())\n",
        "model.add(Dense(512, activation='relu'))\n",
        "model.add(Dense(10, activation=\"softmax\"))\n",
        "\n",
        "# Train the digit classification model\n",
        "model.compile(optimizer='adam', loss=\"categorical_crossentropy\", metrics='accuracy')\n",
        "\n",
        "train_log = model.fit(\n",
        "  train_images,\n",
        "  train_labels,\n",
        "  epochs=10,\n",
        "  validation_split=0.2,\n",
        ")\n",
        "model.evaluate(test_images, test_labels)\n",
        "plot_loss(train_log)"
      ]
    },
    {
      "cell_type": "markdown",
      "metadata": {
        "id": "hsycEGiGbYHE"
      },
      "source": [
        "## Prequel - Saving and Loading Models\n",
        "\n",
        "As we've seen, models can take a long time to train in many cases. Like with the sklearn models, we can save and load ours as they are trained and reused. This is a pretty integral part of making neural network models usable, so it is pretty easy. \n",
        "\n",
        "In addition to this we often see models saved in the h5 format, which just saves slightly less stuff along with the model. If we are using models trained elsewhere this format is very common. "
      ]
    },
    {
      "cell_type": "code",
      "execution_count": 4,
      "metadata": {
        "colab": {
          "base_uri": "https://localhost:8080/"
        },
        "id": "G2PSIZDbbYHE",
        "outputId": "37aa2093-e7d5-4680-fac9-ba4045372d96"
      },
      "outputs": [
        {
          "name": "stderr",
          "output_type": "stream",
          "text": [
            "WARNING:absl:Found untraced functions such as _update_step_xla while saving (showing 1 of 1). These functions will not be directly callable after loading.\n"
          ]
        },
        {
          "name": "stdout",
          "output_type": "stream",
          "text": [
            "INFO:tensorflow:Assets written to: model_path/assets\n"
          ]
        },
        {
          "name": "stderr",
          "output_type": "stream",
          "text": [
            "INFO:tensorflow:Assets written to: model_path/assets\n"
          ]
        }
      ],
      "source": [
        "# Save my model\n",
        "model.save('model_path')\n",
        "model = keras.models.load_model('model_path')"
      ]
    },
    {
      "cell_type": "code",
      "execution_count": 5,
      "metadata": {
        "id": "lEJgmNFYbYHE"
      },
      "outputs": [],
      "source": [
        "# Calling `save('my_model.h5')` creates a h5 file `my_model.h5`.\n",
        "model.save(\"my_h5_model.h5\")\n",
        "\n",
        "# It can be used to reconstruct the model identically.\n",
        "reconstructed_model = keras.models.load_model(\"my_h5_model.h5\")"
      ]
    },
    {
      "attachments": {},
      "cell_type": "markdown",
      "metadata": {
        "id": "DoRkV4nTbYHF"
      },
      "source": [
        "## Network Size\n",
        "\n",
        "Probably the first question that we will think of when building networks through Tensorflow is \"how big should it be\"? This is a very big question, and one of those ones without a real answer. We can put some guidelines in place to help us though. \n",
        "\n",
        "### What Does the Size Mean?\n",
        "\n",
        "The size of a neural network is also known as the capacity. We can relate it roughly to the size of our first model, the tree. The larger a network is the higher its capacity to learn. This is similar to a tree, the larger the tree, the more fitted it can become to the training data. \n",
        "\n",
        "### What Size to Use?\n",
        "\n",
        "We can start with a few guidelines to have a reasonably sized neural network. These steps do not ensure an optimal solution, but they'll get us started. There really is not a prescribed method for calculating the optimal network size (beleive me, I've looked), but there are several rules of thumb we can build together to get a rough estimate of a starting point for sizing:\n",
        "\n",
        "<ul>\n",
        "<li> Start with an input layer that is either\n",
        "    <ul>\n",
        "    <li> The width of the data, if the feature set is relatively small. \n",
        "    <li> A reasonably large number if the feature set is large. \n",
        "    <li> We don't have a true diving line, but 512 is a reasonable value to try for an upper end, at least at first. \n",
        "    </ul>\n",
        "<li> Add 1 or 2 hidden layers of the same size and observe the results. We want to keep the model smaller if making it larger doesn't improve things, so first we shoudl see how good of a job a small model does. If the data is very large, skipping past the 1 layer step may save some time since we can predict that we can do better with a larger model in advance. \n",
        "<li> Increase layers of the same size until we get some overfitting and the training loss flattens. We want to reach the point where the model is getting to be excellent at predicting the training data. This is something we can see in the plot by noticing that the validation loss flatlines or starts to get worse. The training loss flattening is an indication that the model is not getting any better at learning the training data; we can use early stopping with a loose patience setting on training loss and lots of epochs to find this. \n",
        "<li> Add regularization steps to cut down that overfitting. We can try regularization and dropouts to cut down on that overfitting. We probably want to try a few options, parameters, and combinations here, there's not really a way to know in advance which regularization will work best on our data. \n",
        "<li> Do a test of \"funneling\" the layer size, potentially adding more layers. The traditional configuration of layers is to gradually decrease the size from the input layer towards the output layer. There is open debate on if this is better than having layers that are all the same size. We can play with this a little to see if results improve or not. \n",
        "<li> Use pruning. Much like a tree we can prune back a model to fight overfitting. \n",
        "</ul>\n",
        "\n",
        "### Height vs Width\n",
        "\n",
        "Another begged question is should we make networks wider (more neurons) or deeper (more layers)? To that effect, we can also think about what happens as layers are added. Each layer allows the network to learn a different representation of the data, and if we flash back to the simple logistic regression and XOR examples, each layer allows the model to capture relationships that are more complex:\n",
        "<ul>\n",
        "<li> No hidden layers - linear relationships only. \n",
        "<li> 1 or more hidden layers - nonlinear relationships, of increasing complexity.\n",
        "</ul>\n",
        "\n",
        "So the number of layers in our model directly relates to the complexity of relationships that we can capture. This doesn't directly mean that more layers are better, but it generally means that we want the number of layers to mirror the \"complexity\" of the data, though complexity is a term with no exact definition or metric here. Once again, there's no universal answer on the balance between width of layers and number of layers, but the general evidence leans towards more layers. There are several reasons for this, none of them definitive, but taken as a whole they add up to a strong case:\n",
        "\n",
        "<ul>\n",
        "<li> Ability to learn different representation of the data - this will be more clear next time when we start to look at some image specific neural networks, but one of the cool features of neural networks is that at each layer the network \"sees\" a different representation of the data, as it goes through each round of transformations. This has the effect of allowing it to identify different features at each layer, and use those features to make more and more accurate predictions. We'll examine this more soon. \n",
        "<li> Avoiding overfitting - extremely wide neural networks tend towards overfitting the training data and not generalizing as well to new data. \n",
        "<li> Ability to add interim steps - with a multi layer network we can add multiple steps such as regularization or dropouts, again to fight overfitting. \n",
        "<li> Automatic feature selection - deep neural networks will automatically perform a type of feature selection as the least important features are minimized in their importance. This is an emerging area of research - some people have argued that well designed neural networks can remove the need for feature selection, and neural networks are being created to be feature selection tools. We can see this illustrated most clearly with images again, we feed a network an entire image, and get a prediction. Note that this isn't a total rejection of feature selection for neural networks, improving the feature set will impact neural network models just as it will for ordinary models; with neural networks we just have the potential for the network to \"cover for mistakes\" in the features. This is more dramatic as data size and network size increase. \n",
        "<li> Results - deep learning has become a common term recently for a reason, due to the success of deep neural networks with many layers. Most of the cool stuff that we see coming from AI such as image recognition, translation, and self navigating robots are the result of deep learning networks. In practice these networks have tended to outperform shallower ones, especially in more complex tasks. \n",
        "</ul>\n",
        "\n",
        "### Overfitting and Underfitting\n",
        "\n",
        "Why not make a model that is both very wide and very deep? This will tend to overfit as it can \"memorize\" the training data. With large datasets we do see very large models in some cases, since the more data we have, the more fitting we can handle. With large datasets and huge models, the training time can potentially explode, so we have to be careful. This is similar to what we saw with unlimited size in trees, we can eventually create a model large enough to memorize the training data. On the whole, the model capacity can be thought of similarly to the size of a tree. If we have large amounts of complex data, we want a model that has a very high capacity, as the relationships are complicated and we have enough data to mitigate overfitting. If we have smaller or more simple data, we want a smaller model, as a large one will overfit our data. \n",
        "\n",
        "Finding the \"optimal\" size is still somewhat of an art, combined with patience for trial and error. <b>The easiest starting point is probably to create a model that can potentially overfit, though not comically large, then use some regularization techniques and early stopping to find the optimal fit.</b> We should also note that it is possible and reasonable that models of different sizes and configurations tend to converge on similar levels of performace. These neural networks are extremely flexible in how they learn during the training process, so they can \"learn around\" some degree of design decisions in a way that is more dramatic than our previous models. "
      ]
    },
    {
      "cell_type": "code",
      "execution_count": 6,
      "metadata": {
        "colab": {
          "base_uri": "https://localhost:8080/"
        },
        "id": "e-CRvieaiZI2",
        "outputId": "8c109988-428d-481d-d54e-b8eb1954cb2a"
      },
      "outputs": [
        {
          "name": "stdout",
          "output_type": "stream",
          "text": [
            "Epoch 1/100\n",
            "1500/1500 [==============================] - 14s 9ms/step - loss: 0.2248 - accuracy: 0.9304 - val_loss: 0.1164 - val_accuracy: 0.9659\n",
            "Epoch 2/100\n",
            "1500/1500 [==============================] - 14s 10ms/step - loss: 0.1072 - accuracy: 0.9673 - val_loss: 0.0973 - val_accuracy: 0.9707\n",
            "Epoch 3/100\n",
            "1500/1500 [==============================] - 13s 9ms/step - loss: 0.0820 - accuracy: 0.9745 - val_loss: 0.0944 - val_accuracy: 0.9754\n",
            "Epoch 4/100\n",
            "1500/1500 [==============================] - 13s 9ms/step - loss: 0.0723 - accuracy: 0.9780 - val_loss: 0.0822 - val_accuracy: 0.9758\n",
            "Epoch 5/100\n",
            "1500/1500 [==============================] - 12s 8ms/step - loss: 0.0588 - accuracy: 0.9813 - val_loss: 0.0994 - val_accuracy: 0.9737\n",
            "Epoch 6/100\n",
            "1500/1500 [==============================] - 12s 8ms/step - loss: 0.0530 - accuracy: 0.9840 - val_loss: 0.1030 - val_accuracy: 0.9744\n",
            "Epoch 7/100\n",
            "1500/1500 [==============================] - 13s 8ms/step - loss: 0.0465 - accuracy: 0.9856 - val_loss: 0.1051 - val_accuracy: 0.9777\n",
            "Epoch 8/100\n",
            "1500/1500 [==============================] - 13s 8ms/step - loss: 0.0461 - accuracy: 0.9857 - val_loss: 0.1092 - val_accuracy: 0.9743\n",
            "Epoch 9/100\n",
            "1500/1500 [==============================] - 13s 8ms/step - loss: 0.0431 - accuracy: 0.9877 - val_loss: 0.1086 - val_accuracy: 0.9760\n",
            "313/313 [==============================] - 1s 2ms/step - loss: 0.0747 - accuracy: 0.9765\n"
          ]
        },
        {
          "data": {
            "image/png": "[encoded data removed]",
            "text/plain": [
              "<Figure size 432x288 with 1 Axes>"
            ]
          },
          "metadata": {
            "needs_background": "light"
          },
          "output_type": "display_data"
        }
      ],
      "source": [
        "# Model\n",
        "model = keras.Sequential()\n",
        "model.add(InputLayer(input_shape=(28, 28)))\n",
        "model.add(Flatten())\n",
        "model.add(Dense(784, activation='relu'))\n",
        "model.add(Dropout(0.2))\n",
        "model.add(Dense(784, activation='relu'))\n",
        "model.add(Dropout(0.2))\n",
        "model.add(Dense(10, activation=\"softmax\"))\n",
        "\n",
        "callback = tf.keras.callbacks.EarlyStopping(monitor='val_loss', patience=5, restore_best_weights=True) \n",
        "\n",
        "# Train the digit classification model\n",
        "model.compile(optimizer='adam', loss=\"categorical_crossentropy\", metrics='accuracy')\n",
        "\n",
        "train_log = model.fit(\n",
        "  train_images,\n",
        "  train_labels,\n",
        "  epochs=100,\n",
        "  validation_split=0.2,\n",
        "  callbacks=[callback]\n",
        ")\n",
        "model.evaluate(test_images, test_labels)\n",
        "plot_loss(train_log)"
      ]
    },
    {
      "cell_type": "code",
      "execution_count": 7,
      "metadata": {
        "colab": {
          "base_uri": "https://localhost:8080/"
        },
        "id": "ZJkWGpsmbYHG",
        "outputId": "cda23fac-98c0-4d7d-d016-56d69a369bda"
      },
      "outputs": [
        {
          "name": "stdout",
          "output_type": "stream",
          "text": [
            "Epoch 1/100\n",
            "1500/1500 [==============================] - 14s 9ms/step - loss: 0.2896 - accuracy: 0.9126 - val_loss: 0.1576 - val_accuracy: 0.9554\n",
            "Epoch 2/100\n",
            "1500/1500 [==============================] - 13s 9ms/step - loss: 0.1491 - accuracy: 0.9585 - val_loss: 0.1201 - val_accuracy: 0.9642\n",
            "Epoch 3/100\n",
            "1500/1500 [==============================] - 13s 9ms/step - loss: 0.1202 - accuracy: 0.9667 - val_loss: 0.0992 - val_accuracy: 0.9697\n",
            "Epoch 4/100\n",
            "1500/1500 [==============================] - 13s 9ms/step - loss: 0.1036 - accuracy: 0.9715 - val_loss: 0.1126 - val_accuracy: 0.9727\n",
            "Epoch 5/100\n",
            "1500/1500 [==============================] - 13s 9ms/step - loss: 0.0904 - accuracy: 0.9751 - val_loss: 0.1172 - val_accuracy: 0.9719\n",
            "Epoch 6/100\n",
            "1500/1500 [==============================] - 13s 9ms/step - loss: 0.0815 - accuracy: 0.9778 - val_loss: 0.1248 - val_accuracy: 0.9696\n",
            "Epoch 7/100\n",
            "1500/1500 [==============================] - 14s 9ms/step - loss: 0.0758 - accuracy: 0.9797 - val_loss: 0.1082 - val_accuracy: 0.9753\n",
            "Epoch 8/100\n",
            "1500/1500 [==============================] - 13s 9ms/step - loss: 0.0724 - accuracy: 0.9804 - val_loss: 0.1139 - val_accuracy: 0.9757\n",
            "313/313 [==============================] - 1s 2ms/step - loss: 0.0988 - accuracy: 0.9713\n"
          ]
        },
        {
          "data": {
            "image/png": "[encoded data removed]",
            "text/plain": [
              "<Figure size 432x288 with 1 Axes>"
            ]
          },
          "metadata": {
            "needs_background": "light"
          },
          "output_type": "display_data"
        }
      ],
      "source": [
        "# Bigger Model\n",
        "model = keras.Sequential()\n",
        "model.add(InputLayer(input_shape=(28, 28)))\n",
        "model.add(Flatten())\n",
        "model.add(Dense(512, activation='relu'))\n",
        "model.add(Dropout(0.2))\n",
        "model.add(Dense(512, activation='relu'))\n",
        "model.add(Dropout(0.2))\n",
        "model.add(Dense(512, activation='relu'))\n",
        "model.add(Dropout(0.2))\n",
        "model.add(Dense(512, activation='relu'))\n",
        "model.add(Dropout(0.2))\n",
        "model.add(Dense(10, activation=\"softmax\"))\n",
        "\n",
        "callback = tf.keras.callbacks.EarlyStopping(monitor='val_loss', patience=5, restore_best_weights=True) \n",
        "\n",
        "# Train the digit classification model\n",
        "model.compile(optimizer='adam', loss=\"categorical_crossentropy\", metrics='accuracy')\n",
        "\n",
        "train_log = model.fit(\n",
        "  train_images,\n",
        "  train_labels,\n",
        "  epochs=100,\n",
        "  validation_split=0.2,\n",
        "  callbacks=[callback]\n",
        ")\n",
        "model.evaluate(test_images, test_labels)\n",
        "plot_loss(train_log)"
      ]
    },
    {
      "cell_type": "code",
      "execution_count": 8,
      "metadata": {
        "colab": {
          "base_uri": "https://localhost:8080/"
        },
        "id": "cmRw70jwga-g",
        "outputId": "c6dacb57-0449-40b7-e461-457f48745d70"
      },
      "outputs": [
        {
          "name": "stdout",
          "output_type": "stream",
          "text": [
            "Epoch 1/100\n",
            "1500/1500 [==============================] - 12s 7ms/step - loss: 0.3799 - accuracy: 0.8908 - val_loss: 0.1813 - val_accuracy: 0.9520\n",
            "Epoch 2/100\n",
            "1500/1500 [==============================] - 11s 7ms/step - loss: 0.1795 - accuracy: 0.9533 - val_loss: 0.1262 - val_accuracy: 0.9659\n",
            "Epoch 3/100\n",
            "1500/1500 [==============================] - 10s 7ms/step - loss: 0.1398 - accuracy: 0.9632 - val_loss: 0.1086 - val_accuracy: 0.9707\n",
            "Epoch 4/100\n",
            "1500/1500 [==============================] - 10s 7ms/step - loss: 0.1104 - accuracy: 0.9704 - val_loss: 0.1122 - val_accuracy: 0.9730\n",
            "Epoch 5/100\n",
            "1500/1500 [==============================] - 10s 7ms/step - loss: 0.0978 - accuracy: 0.9741 - val_loss: 0.1188 - val_accuracy: 0.9727\n",
            "Epoch 6/100\n",
            "1500/1500 [==============================] - 10s 7ms/step - loss: 0.0908 - accuracy: 0.9774 - val_loss: 0.1070 - val_accuracy: 0.9756\n",
            "Epoch 7/100\n",
            "1500/1500 [==============================] - 10s 7ms/step - loss: 0.0809 - accuracy: 0.9782 - val_loss: 0.0986 - val_accuracy: 0.9758\n",
            "Epoch 8/100\n",
            "1500/1500 [==============================] - 11s 7ms/step - loss: 0.0718 - accuracy: 0.9816 - val_loss: 0.1080 - val_accuracy: 0.9760\n",
            "Epoch 9/100\n",
            "1500/1500 [==============================] - 10s 7ms/step - loss: 0.0747 - accuracy: 0.9808 - val_loss: 0.0973 - val_accuracy: 0.9778\n",
            "Epoch 10/100\n",
            "1500/1500 [==============================] - 10s 7ms/step - loss: 0.0613 - accuracy: 0.9843 - val_loss: 0.1016 - val_accuracy: 0.9772\n",
            "Epoch 11/100\n",
            "1500/1500 [==============================] - 11s 7ms/step - loss: 0.0572 - accuracy: 0.9849 - val_loss: 0.1011 - val_accuracy: 0.9768\n",
            "Epoch 12/100\n",
            "1500/1500 [==============================] - 10s 7ms/step - loss: 0.0533 - accuracy: 0.9863 - val_loss: 0.1075 - val_accuracy: 0.9799\n",
            "Epoch 13/100\n",
            "1500/1500 [==============================] - 11s 7ms/step - loss: 0.0509 - accuracy: 0.9868 - val_loss: 0.1024 - val_accuracy: 0.9791\n",
            "Epoch 14/100\n",
            "1500/1500 [==============================] - 11s 7ms/step - loss: 0.0513 - accuracy: 0.9859 - val_loss: 0.1322 - val_accuracy: 0.9786\n",
            "313/313 [==============================] - 1s 2ms/step - loss: 0.0918 - accuracy: 0.9790\n"
          ]
        },
        {
          "data": {
            "image/png": "[encoded data removed]",
            "text/plain": [
              "<Figure size 432x288 with 1 Axes>"
            ]
          },
          "metadata": {
            "needs_background": "light"
          },
          "output_type": "display_data"
        }
      ],
      "source": [
        "# Tapered Model\n",
        "model = keras.Sequential()\n",
        "model.add(InputLayer(input_shape=(28, 28)))\n",
        "model.add(Flatten())\n",
        "model.add(Dense(500, activation='relu'))\n",
        "model.add(Dropout(0.2))\n",
        "model.add(Dense(350, activation='relu'))\n",
        "model.add(Dropout(0.2))\n",
        "model.add(Dense(200, activation='relu'))\n",
        "model.add(Dropout(0.2))\n",
        "model.add(Dense(100, activation='relu'))\n",
        "model.add(Dropout(0.2))\n",
        "model.add(Dense(50, activation='relu'))\n",
        "model.add(Dropout(0.2))\n",
        "model.add(Dense(10, activation=\"softmax\"))\n",
        "\n",
        "callback = tf.keras.callbacks.EarlyStopping(monitor='val_loss', patience=5, restore_best_weights=True) \n",
        "\n",
        "# Train the digit classification model\n",
        "model.compile(optimizer='adam', loss=\"categorical_crossentropy\", metrics='accuracy')\n",
        "\n",
        "train_log = model.fit(\n",
        "  train_images,\n",
        "  train_labels,\n",
        "  epochs=100,\n",
        "  validation_split=0.2,\n",
        "  callbacks=[callback]\n",
        ")\n",
        "model.evaluate(test_images, test_labels)\n",
        "plot_loss(train_log)"
      ]
    },
    {
      "attachments": {},
      "cell_type": "markdown",
      "metadata": {
        "id": "LwRjUyBMbYHG"
      },
      "source": [
        "## Epochs and Batch Sizes\n",
        "\n",
        "![Batch Sizes](images/iterations_epoch.webp \"Batch Sizes\")\n",
        "\n",
        "### Epochs\n",
        "\n",
        "Each epoch is a run through all of the training data. Epochs are simple, we can set a large number and use early stopping to cut things off when we've reached the best result. \n",
        "\n",
        "### Batch Sizes\n",
        "\n",
        "Batch size determines how many records are processed before the gradients are updated - i.e. the number of records between one forward and backwards pass. The batch sizes are a matter of very open debate for the optimal solution. At the high end, batch sizes are limited by what can fit in memory. When dealing with very large data this may matter as a batch that is a small fraction of the data may be a massive absolute size. At the lower end using smaller batches gives the same effect as it does when we looked at regular gradient descent - the gradients become less stable as we are relying on a smaller number of records. In reading more about batch sizes I want to update my recommendation to be even smaller than the 50 to 150 I suggested before, down to less than 100, even as small as into the single digits. There is research that smaller batch sizes tend to produce models that generalize better than ones with larger batches. \n",
        "\n",
        "Larger batch sizes do tend to be processed more quickly, sometimes substantially so, as the hardware is better able to be \"saturated\" with data to process. In big data scenarios, this can matter. One thing that you see in practice is that the GPUs (or similar) that are used to train neural networks have a certain amount of memory, and the batch size is limited by that memory. When doing something that involves large images or video, or similar, this can be a real area for concern. For us, these constraints won't really come up, but it's good to be aware of them. \n",
        "\n",
        "Dont' stress too much on batch size, this is really something that needs to be grid searched to find a great answer and in scenarios where it actually matters, is largely influenced by the hardware that is available."
      ]
    },
    {
      "cell_type": "code",
      "execution_count": 9,
      "metadata": {
        "colab": {
          "base_uri": "https://localhost:8080/"
        },
        "id": "sMFYDxPdbYHG",
        "outputId": "bff27c4c-5d53-4d25-96f5-ef5c69444d3a"
      },
      "outputs": [
        {
          "name": "stdout",
          "output_type": "stream",
          "text": [
            "Epoch 1/100\n",
            "10/10 [==============================] - 2s 115ms/step - loss: 1.3828 - accuracy: 0.6204 - val_loss: 0.4813 - val_accuracy: 0.8603\n",
            "Epoch 2/100\n",
            "10/10 [==============================] - 1s 91ms/step - loss: 0.4827 - accuracy: 0.8508 - val_loss: 0.3123 - val_accuracy: 0.9111\n",
            "Epoch 3/100\n",
            "10/10 [==============================] - 1s 91ms/step - loss: 0.3443 - accuracy: 0.8968 - val_loss: 0.2420 - val_accuracy: 0.9285\n",
            "Epoch 4/100\n",
            "10/10 [==============================] - 1s 93ms/step - loss: 0.2705 - accuracy: 0.9201 - val_loss: 0.2041 - val_accuracy: 0.9413\n",
            "Epoch 5/100\n",
            "10/10 [==============================] - 1s 101ms/step - loss: 0.2257 - accuracy: 0.9340 - val_loss: 0.1774 - val_accuracy: 0.9507\n",
            "Epoch 6/100\n",
            "10/10 [==============================] - 1s 92ms/step - loss: 0.1951 - accuracy: 0.9427 - val_loss: 0.1596 - val_accuracy: 0.9545\n",
            "Epoch 7/100\n",
            "10/10 [==============================] - 1s 95ms/step - loss: 0.1701 - accuracy: 0.9509 - val_loss: 0.1450 - val_accuracy: 0.9576\n",
            "Epoch 8/100\n",
            "10/10 [==============================] - 1s 94ms/step - loss: 0.1544 - accuracy: 0.9541 - val_loss: 0.1343 - val_accuracy: 0.9597\n",
            "Epoch 9/100\n",
            "10/10 [==============================] - 1s 94ms/step - loss: 0.1376 - accuracy: 0.9600 - val_loss: 0.1251 - val_accuracy: 0.9627\n",
            "Epoch 10/100\n",
            "10/10 [==============================] - 1s 100ms/step - loss: 0.1255 - accuracy: 0.9631 - val_loss: 0.1181 - val_accuracy: 0.9659\n",
            "Epoch 11/100\n",
            "10/10 [==============================] - 1s 90ms/step - loss: 0.1145 - accuracy: 0.9667 - val_loss: 0.1122 - val_accuracy: 0.9670\n",
            "Epoch 12/100\n",
            "10/10 [==============================] - 1s 87ms/step - loss: 0.1043 - accuracy: 0.9690 - val_loss: 0.1052 - val_accuracy: 0.9689\n",
            "Epoch 13/100\n",
            "10/10 [==============================] - 1s 89ms/step - loss: 0.0953 - accuracy: 0.9716 - val_loss: 0.1008 - val_accuracy: 0.9703\n",
            "Epoch 14/100\n",
            "10/10 [==============================] - 1s 87ms/step - loss: 0.0872 - accuracy: 0.9743 - val_loss: 0.0979 - val_accuracy: 0.9708\n",
            "Epoch 15/100\n",
            "10/10 [==============================] - 1s 92ms/step - loss: 0.0808 - accuracy: 0.9760 - val_loss: 0.0936 - val_accuracy: 0.9714\n",
            "Epoch 16/100\n",
            "10/10 [==============================] - 1s 86ms/step - loss: 0.0743 - accuracy: 0.9785 - val_loss: 0.0904 - val_accuracy: 0.9732\n",
            "Epoch 17/100\n",
            "10/10 [==============================] - 1s 98ms/step - loss: 0.0692 - accuracy: 0.9792 - val_loss: 0.0891 - val_accuracy: 0.9735\n",
            "Epoch 18/100\n",
            "10/10 [==============================] - 1s 86ms/step - loss: 0.0638 - accuracy: 0.9809 - val_loss: 0.0863 - val_accuracy: 0.9739\n",
            "Epoch 19/100\n",
            "10/10 [==============================] - 1s 87ms/step - loss: 0.0587 - accuracy: 0.9828 - val_loss: 0.0838 - val_accuracy: 0.9747\n",
            "Epoch 20/100\n",
            "10/10 [==============================] - 1s 87ms/step - loss: 0.0550 - accuracy: 0.9836 - val_loss: 0.0822 - val_accuracy: 0.9740\n",
            "Epoch 21/100\n",
            "10/10 [==============================] - 1s 87ms/step - loss: 0.0517 - accuracy: 0.9847 - val_loss: 0.0804 - val_accuracy: 0.9749\n",
            "Epoch 22/100\n",
            "10/10 [==============================] - 1s 88ms/step - loss: 0.0472 - accuracy: 0.9862 - val_loss: 0.0806 - val_accuracy: 0.9763\n",
            "Epoch 23/100\n",
            "10/10 [==============================] - 1s 94ms/step - loss: 0.0455 - accuracy: 0.9864 - val_loss: 0.0791 - val_accuracy: 0.9765\n",
            "Epoch 24/100\n",
            "10/10 [==============================] - 1s 90ms/step - loss: 0.0435 - accuracy: 0.9877 - val_loss: 0.0776 - val_accuracy: 0.9768\n",
            "Epoch 25/100\n",
            "10/10 [==============================] - 1s 96ms/step - loss: 0.0397 - accuracy: 0.9886 - val_loss: 0.0763 - val_accuracy: 0.9772\n",
            "Epoch 26/100\n",
            "10/10 [==============================] - 1s 106ms/step - loss: 0.0378 - accuracy: 0.9889 - val_loss: 0.0760 - val_accuracy: 0.9778\n",
            "Epoch 27/100\n",
            "10/10 [==============================] - 1s 88ms/step - loss: 0.0350 - accuracy: 0.9895 - val_loss: 0.0754 - val_accuracy: 0.9784\n",
            "Epoch 28/100\n",
            "10/10 [==============================] - 1s 88ms/step - loss: 0.0335 - accuracy: 0.9903 - val_loss: 0.0746 - val_accuracy: 0.9784\n",
            "Epoch 29/100\n",
            "10/10 [==============================] - 1s 87ms/step - loss: 0.0309 - accuracy: 0.9910 - val_loss: 0.0734 - val_accuracy: 0.9781\n",
            "Epoch 30/100\n",
            "10/10 [==============================] - 1s 89ms/step - loss: 0.0296 - accuracy: 0.9914 - val_loss: 0.0737 - val_accuracy: 0.9785\n",
            "Epoch 31/100\n",
            "10/10 [==============================] - 1s 89ms/step - loss: 0.0278 - accuracy: 0.9919 - val_loss: 0.0747 - val_accuracy: 0.9787\n",
            "Epoch 32/100\n",
            "10/10 [==============================] - 1s 89ms/step - loss: 0.0258 - accuracy: 0.9925 - val_loss: 0.0731 - val_accuracy: 0.9794\n",
            "Epoch 33/100\n",
            "10/10 [==============================] - 1s 90ms/step - loss: 0.0248 - accuracy: 0.9930 - val_loss: 0.0723 - val_accuracy: 0.9787\n",
            "Epoch 34/100\n",
            "10/10 [==============================] - 1s 91ms/step - loss: 0.0241 - accuracy: 0.9927 - val_loss: 0.0732 - val_accuracy: 0.9790\n",
            "Epoch 35/100\n",
            "10/10 [==============================] - 1s 89ms/step - loss: 0.0221 - accuracy: 0.9937 - val_loss: 0.0705 - val_accuracy: 0.9797\n",
            "Epoch 36/100\n",
            "10/10 [==============================] - 1s 101ms/step - loss: 0.0207 - accuracy: 0.9943 - val_loss: 0.0707 - val_accuracy: 0.9793\n",
            "Epoch 37/100\n",
            "10/10 [==============================] - 1s 90ms/step - loss: 0.0195 - accuracy: 0.9947 - val_loss: 0.0734 - val_accuracy: 0.9794\n",
            "Epoch 38/100\n",
            "10/10 [==============================] - 1s 88ms/step - loss: 0.0193 - accuracy: 0.9945 - val_loss: 0.0718 - val_accuracy: 0.9799\n",
            "313/313 [==============================] - 1s 2ms/step - loss: 0.0618 - accuracy: 0.9811\n"
          ]
        },
        {
          "data": {
            "image/png": "[encoded data removed]",
            "text/plain": [
              "<Figure size 432x288 with 1 Axes>"
            ]
          },
          "metadata": {
            "needs_background": "light"
          },
          "output_type": "display_data"
        }
      ],
      "source": [
        "# Big Batch\n",
        "model = keras.Sequential()\n",
        "model.add(InputLayer(input_shape=(28, 28)))\n",
        "model.add(Flatten())\n",
        "model.add(Dense(500, activation='relu'))\n",
        "model.add(Dropout(0.2))\n",
        "model.add(Dense(350, activation='relu'))\n",
        "model.add(Dropout(0.2))\n",
        "model.add(Dense(10, activation=\"softmax\"))\n",
        "\n",
        "callback = tf.keras.callbacks.EarlyStopping(monitor='val_loss', patience=3, restore_best_weights=True) \n",
        "\n",
        "# Train the digit classification model\n",
        "model.compile(optimizer='adam', loss=\"categorical_crossentropy\", metrics='accuracy')\n",
        "\n",
        "train_log = model.fit(\n",
        "  train_images,\n",
        "  train_labels,\n",
        "  epochs=100,\n",
        "  batch_size=5000,\n",
        "  validation_split=0.2,\n",
        "  callbacks=[callback]\n",
        ")\n",
        "model.evaluate(test_images, test_labels)\n",
        "plot_loss(train_log)"
      ]
    },
    {
      "cell_type": "code",
      "execution_count": 10,
      "metadata": {
        "colab": {
          "base_uri": "https://localhost:8080/"
        },
        "id": "vbJeAtnDipXo",
        "outputId": "e5abf716-b380-4174-f0df-9611e7689a9b"
      },
      "outputs": [
        {
          "name": "stdout",
          "output_type": "stream",
          "text": [
            "Epoch 1/300\n",
            "24000/24000 [==============================] - 104s 4ms/step - loss: 0.3053 - accuracy: 0.9134 - val_loss: 0.1566 - val_accuracy: 0.9585\n",
            "Epoch 2/300\n",
            "24000/24000 [==============================] - 105s 4ms/step - loss: 0.2226 - accuracy: 0.9466 - val_loss: 0.1808 - val_accuracy: 0.9539\n",
            "Epoch 3/300\n",
            "24000/24000 [==============================] - 107s 4ms/step - loss: 0.2170 - accuracy: 0.9504 - val_loss: 0.1650 - val_accuracy: 0.9596\n",
            "Epoch 4/300\n",
            "24000/24000 [==============================] - 107s 4ms/step - loss: 0.2105 - accuracy: 0.9536 - val_loss: 0.1750 - val_accuracy: 0.9663\n",
            "313/313 [==============================] - 1s 2ms/step - loss: 0.1548 - accuracy: 0.9557\n"
          ]
        },
        {
          "data": {
            "image/png": "[encoded data removed]",
            "text/plain": [
              "<Figure size 432x288 with 1 Axes>"
            ]
          },
          "metadata": {
            "needs_background": "light"
          },
          "output_type": "display_data"
        }
      ],
      "source": [
        "# Small Batch\n",
        "model = keras.Sequential()\n",
        "model.add(InputLayer(input_shape=(28, 28)))\n",
        "model.add(Flatten())\n",
        "model.add(Dense(500, activation='relu'))\n",
        "model.add(Dropout(0.2))\n",
        "model.add(Dense(350, activation='relu'))\n",
        "model.add(Dropout(0.2))\n",
        "model.add(Dense(10, activation=\"softmax\"))\n",
        "\n",
        "callback = tf.keras.callbacks.EarlyStopping(monitor='val_loss', patience=3, restore_best_weights=True) \n",
        "\n",
        "# Train the digit classification model\n",
        "model.compile(optimizer='adam', loss=\"categorical_crossentropy\", metrics='accuracy')\n",
        "\n",
        "# Note: Batch size of 2 is good to test\n",
        "# But it can take a VERY long time, be aggressive with the early stopping\n",
        "train_log = model.fit(\n",
        "  train_images,\n",
        "  train_labels,\n",
        "  epochs=300,\n",
        "  batch_size=2,\n",
        "  validation_split=0.2,\n",
        "  callbacks=[callback]\n",
        ")\n",
        "model.evaluate(test_images, test_labels)\n",
        "plot_loss(train_log)"
      ]
    },
    {
      "attachments": {},
      "cell_type": "markdown",
      "metadata": {
        "id": "bUFvtavwbYHH"
      },
      "source": [
        "## Optimizer\n",
        "\n",
        "Of all options the optimizer is the one we will care about the least. Each different optimizer is a different algorithm for doing the gradient descent. The optimizers have different results with respect to speed, memory usage, computational expense, and likelyhood to get stuck in a local minima. The optimizer is similar to some of the options we saw with logistic regression - there were several solver options for that model, each of which performed the gradient descent process with a slightly different set of calculations. Optimizers tend to manipulate the learning rate, attempting to narrow in on the optimum weights in fewer epochs and thus fewer calculations.\n",
        "\n",
        "![Optimizers](images/optimizers.gif \"Optimizers\")\n",
        "\n",
        "<b>Note:</b> this animation doesn't have Adam, which is unfortumate, but it was the most clear one I could find. The different optimizers are all trying to find the same minimum, and in most cases they all do, but they take differnt paths to get there, over a different number of steps.\n",
        "\n",
        "Adam is a good compromise between all factors and is very commonly used. We'll just use this for our work. One other common one is RMSprop, if you're feeling spicy, give that a try and see if there are any imporvements. These optimizers don't change the model we are making (outside of edge cases, like getting stuck in a minima), they change the process of finding that model. The biggest impact of the optimizer is on the speed of the training process, and in turn the ability to experiment with different models. This is more of a concern as the data gets larger, as small improvements on each individual gradient descent step can add up to large improvements in the overall training time. "
      ]
    },
    {
      "cell_type": "code",
      "execution_count": 11,
      "metadata": {
        "id": "5qIRrRF2bYHH"
      },
      "outputs": [],
      "source": [
        "optimizer_1 = tf.keras.optimizers.Adam()\n",
        "optimizer_2 = tf.keras.optimizers.RMSprop()"
      ]
    },
    {
      "attachments": {},
      "cell_type": "markdown",
      "metadata": {
        "id": "RXb18AySbYHH"
      },
      "source": [
        "## Activation \n",
        "\n",
        "Activation functions are the key to adding non-linearity to the network allowing it to learn complex and non-linear relationships in the data. We've used ReLU as the default and that is a solid choice in most cases. ReLU has one issue, the dying ReLU problem. This can happen when we get inputs to the activation function fall in the negative area. In short there can be neurons that \"die\" and never get updated again because the value becomes 0 and stays 0. These dead neurons are a problem as they now aren't contributing to the learning.\n",
        "\n",
        "![ReLU](images/relu.jpeg \"ReLU\")\n",
        "\n",
        "To combat the dying ReLU problem there are a couple of other activation functions that avoid that issue - Leaky ReLU and ELU. Each one changes the negative values to something other than 0 - Leaky ReLU uses a slight linear gradient, ELU uses an exponential function for a similar, but curved, slight gradient. These ReLU variants are a good choice, and probably the 'best' overall activation functions for most scenarios. One some datasets will be impacted by the dying ReLU problem. \n",
        "\n",
        "These activation function also have an impact on the speed of training. The ReLU function is very fast to calculate, and the Leaky ReLU and ELU functions are a bit slower. Other activation functions may be even more expensive. Will this matter? As with many things, it depends. For the small examples we are using, it probably won't matter much. On very large applications, we may need to consider the ability to train models more quickly, and try more models vs. the improved fit of another activation function.\n",
        "\n",
        "#### Activation Function Guidelines\n",
        "\n",
        "We can write a few rules of thumb to guide us in deciding on activation functions. On the whole, the choice is like a hyperparameter choice, and we want to choose whichever is the best for our data. Some of the guidelines are:\n",
        "<ul>\n",
        "<li> The output layer should have an activation function that matches the type of problem we are solving. \n",
        "    <ul>\n",
        "    <li> <b>Regression:</b> Linear activation function.\n",
        "    <li> <b>Binary Classification:</b> Sigmoid activation function.\n",
        "    <li> <b>Multiclass Classification:</b> Softmax activation function.\n",
        "    </ul>\n",
        "<li> Depending on the type of network/problem, our hidden layers default to different activation functions:\n",
        "    <ul>\n",
        "    <li> <b>Deep Neural Networks:</b> ReLU activation functions.\n",
        "    <li> <b>Convolutional Neural Networks: (Images)</b> ReLU activation functions.\n",
        "    <li> <b>Recurrent Neural Networks:(Seqential, Time Series)</b> Tanh activation function.\n",
        "    </ul>\n",
        "</ul>\n",
        "\n",
        "There are more activation functions, and others are being developed somewhat regularly. If in doubt, just use a ReLU variant. "
      ]
    },
    {
      "cell_type": "code",
      "execution_count": 12,
      "metadata": {
        "colab": {
          "base_uri": "https://localhost:8080/"
        },
        "id": "MQ81hFfxbYHH",
        "outputId": "d9a522ce-4252-4709-cb3a-c5cebfb1f355"
      },
      "outputs": [
        {
          "name": "stdout",
          "output_type": "stream",
          "text": [
            "Epoch 1/10\n",
            "750/750 [==============================] - 5s 5ms/step - loss: 0.2750 - accuracy: 0.9164 - val_loss: 0.1395 - val_accuracy: 0.9582\n",
            "Epoch 2/10\n",
            "750/750 [==============================] - 4s 5ms/step - loss: 0.1418 - accuracy: 0.9570 - val_loss: 0.1029 - val_accuracy: 0.9684\n",
            "Epoch 3/10\n",
            "750/750 [==============================] - 4s 5ms/step - loss: 0.1111 - accuracy: 0.9678 - val_loss: 0.1119 - val_accuracy: 0.9675\n",
            "Epoch 4/10\n",
            "750/750 [==============================] - 6s 7ms/step - loss: 0.0961 - accuracy: 0.9703 - val_loss: 0.0977 - val_accuracy: 0.9730\n",
            "Epoch 5/10\n",
            "750/750 [==============================] - 4s 5ms/step - loss: 0.0855 - accuracy: 0.9739 - val_loss: 0.0996 - val_accuracy: 0.9728\n",
            "Epoch 6/10\n",
            "750/750 [==============================] - 4s 5ms/step - loss: 0.0767 - accuracy: 0.9772 - val_loss: 0.0977 - val_accuracy: 0.9753\n",
            "Epoch 7/10\n",
            "750/750 [==============================] - 4s 5ms/step - loss: 0.0704 - accuracy: 0.9790 - val_loss: 0.1118 - val_accuracy: 0.9714\n",
            "Epoch 8/10\n",
            "750/750 [==============================] - 4s 5ms/step - loss: 0.0689 - accuracy: 0.9796 - val_loss: 0.0907 - val_accuracy: 0.9758\n",
            "Epoch 9/10\n",
            "750/750 [==============================] - 4s 5ms/step - loss: 0.0624 - accuracy: 0.9813 - val_loss: 0.0994 - val_accuracy: 0.9761\n",
            "Epoch 10/10\n",
            "750/750 [==============================] - 4s 5ms/step - loss: 0.0589 - accuracy: 0.9827 - val_loss: 0.1322 - val_accuracy: 0.9680\n",
            "313/313 [==============================] - 1s 2ms/step - loss: 0.1275 - accuracy: 0.9689\n"
          ]
        },
        {
          "data": {
            "image/png": "[encoded data removed]",
            "text/plain": [
              "<Figure size 432x288 with 1 Axes>"
            ]
          },
          "metadata": {
            "needs_background": "light"
          },
          "output_type": "display_data"
        }
      ],
      "source": [
        "# Take a leak \n",
        "model = keras.Sequential()\n",
        "model.add(InputLayer(input_shape=(28, 28)))\n",
        "model.add(Flatten())\n",
        "model.add(Dense(500, activation='leaky_relu'))\n",
        "model.add(Dropout(0.2))\n",
        "model.add(Dense(350, activation='leaky_relu'))\n",
        "model.add(Dropout(0.2))\n",
        "model.add(Dense(10, activation=\"softmax\"))\n",
        "\n",
        "callback = tf.keras.callbacks.EarlyStopping(monitor='val_loss', patience=10, restore_best_weights=True) \n",
        "\n",
        "# Train the digit classification model\n",
        "model.compile(optimizer=optimizer_2, loss=\"categorical_crossentropy\", metrics='accuracy')\n",
        "\n",
        "train_log = model.fit(\n",
        "  train_images,\n",
        "  train_labels,\n",
        "  epochs=10,\n",
        "  batch_size=64,\n",
        "  validation_split=0.2,\n",
        "  callbacks=[callback]\n",
        ")\n",
        "model.evaluate(test_images, test_labels)\n",
        "plot_loss(train_log)"
      ]
    },
    {
      "attachments": {},
      "cell_type": "markdown",
      "metadata": {
        "id": "Gi7DxgCsbYHH"
      },
      "source": [
        "## Initialization\n",
        "\n",
        "The initialization provides the starting point for all the weights and bias values that we start out with. We initially started with random values in the scratch network - this is generally fine, but we can sometimes do better. One specific case where we can do better is when we have data that is highly imbalanced. This is a common problem in things such as fraud detection, where we have a very small number of fraud cases, and a very large number of non-fraud cases. Seeding the model with an \"expectation\" of the bias values can help the model learn faster and converge on an answer more quickly. In cases where we have a lot of data, this can be a big deal. In cases where we may have local minima in the loss curve, this can be significant - the more \"ground\" the gradient descent covers, the greater the odds it encounters a local minima that might be a trap. With imbalenced data, we expect that the model will need to cover a lot of that ground, so starting off with a better bias value can help. \n",
        "\n",
        "### Imbalanced Weighting\n",
        "\n",
        "One application where initialization can help significantly is when dealing with imbalanced data. In this example of credit card fraud (real data that has been put through PCA), very, very few transactions are fraudulent. So we have a very imbalanced target value - the class variable. "
      ]
    },
    {
      "cell_type": "code",
      "execution_count": 13,
      "metadata": {
        "colab": {
          "base_uri": "https://localhost:8080/",
          "height": 299
        },
        "id": "jf84UJGPbYHI",
        "outputId": "8293e2c9-d3ae-45d7-a10d-30eeeeb95c1a"
      },
      "outputs": [
        {
          "data": {
            "text/html": [
              "<div>\n",
              "<style scoped>\n",
              "    .dataframe tbody tr th:only-of-type {\n",
              "        vertical-align: middle;\n",
              "    }\n",
              "\n",
              "    .dataframe tbody tr th {\n",
              "        vertical-align: top;\n",
              "    }\n",
              "\n",
              "    .dataframe thead th {\n",
              "        text-align: right;\n",
              "    }\n",
              "</style>\n",
              "<table border=\"1\" class=\"dataframe\">\n",
              "  <thead>\n",
              "    <tr style=\"text-align: right;\">\n",
              "      <th></th>\n",
              "      <th>Time</th>\n",
              "      <th>V1</th>\n",
              "      <th>V2</th>\n",
              "      <th>V3</th>\n",
              "      <th>V4</th>\n",
              "      <th>V5</th>\n",
              "      <th>V6</th>\n",
              "      <th>V7</th>\n",
              "      <th>V8</th>\n",
              "      <th>V9</th>\n",
              "      <th>...</th>\n",
              "      <th>V21</th>\n",
              "      <th>V22</th>\n",
              "      <th>V23</th>\n",
              "      <th>V24</th>\n",
              "      <th>V25</th>\n",
              "      <th>V26</th>\n",
              "      <th>V27</th>\n",
              "      <th>V28</th>\n",
              "      <th>Amount</th>\n",
              "      <th>Class</th>\n",
              "    </tr>\n",
              "  </thead>\n",
              "  <tbody>\n",
              "    <tr>\n",
              "      <th>0</th>\n",
              "      <td>0.0</td>\n",
              "      <td>-1.359807</td>\n",
              "      <td>-0.072781</td>\n",
              "      <td>2.536347</td>\n",
              "      <td>1.378155</td>\n",
              "      <td>-0.338321</td>\n",
              "      <td>0.462388</td>\n",
              "      <td>0.239599</td>\n",
              "      <td>0.098698</td>\n",
              "      <td>0.363787</td>\n",
              "      <td>...</td>\n",
              "      <td>-0.018307</td>\n",
              "      <td>0.277838</td>\n",
              "      <td>-0.110474</td>\n",
              "      <td>0.066928</td>\n",
              "      <td>0.128539</td>\n",
              "      <td>-0.189115</td>\n",
              "      <td>0.133558</td>\n",
              "      <td>-0.021053</td>\n",
              "      <td>149.62</td>\n",
              "      <td>0</td>\n",
              "    </tr>\n",
              "    <tr>\n",
              "      <th>1</th>\n",
              "      <td>0.0</td>\n",
              "      <td>1.191857</td>\n",
              "      <td>0.266151</td>\n",
              "      <td>0.166480</td>\n",
              "      <td>0.448154</td>\n",
              "      <td>0.060018</td>\n",
              "      <td>-0.082361</td>\n",
              "      <td>-0.078803</td>\n",
              "      <td>0.085102</td>\n",
              "      <td>-0.255425</td>\n",
              "      <td>...</td>\n",
              "      <td>-0.225775</td>\n",
              "      <td>-0.638672</td>\n",
              "      <td>0.101288</td>\n",
              "      <td>-0.339846</td>\n",
              "      <td>0.167170</td>\n",
              "      <td>0.125895</td>\n",
              "      <td>-0.008983</td>\n",
              "      <td>0.014724</td>\n",
              "      <td>2.69</td>\n",
              "      <td>0</td>\n",
              "    </tr>\n",
              "    <tr>\n",
              "      <th>2</th>\n",
              "      <td>1.0</td>\n",
              "      <td>-1.358354</td>\n",
              "      <td>-1.340163</td>\n",
              "      <td>1.773209</td>\n",
              "      <td>0.379780</td>\n",
              "      <td>-0.503198</td>\n",
              "      <td>1.800499</td>\n",
              "      <td>0.791461</td>\n",
              "      <td>0.247676</td>\n",
              "      <td>-1.514654</td>\n",
              "      <td>...</td>\n",
              "      <td>0.247998</td>\n",
              "      <td>0.771679</td>\n",
              "      <td>0.909412</td>\n",
              "      <td>-0.689281</td>\n",
              "      <td>-0.327642</td>\n",
              "      <td>-0.139097</td>\n",
              "      <td>-0.055353</td>\n",
              "      <td>-0.059752</td>\n",
              "      <td>378.66</td>\n",
              "      <td>0</td>\n",
              "    </tr>\n",
              "    <tr>\n",
              "      <th>3</th>\n",
              "      <td>1.0</td>\n",
              "      <td>-0.966272</td>\n",
              "      <td>-0.185226</td>\n",
              "      <td>1.792993</td>\n",
              "      <td>-0.863291</td>\n",
              "      <td>-0.010309</td>\n",
              "      <td>1.247203</td>\n",
              "      <td>0.237609</td>\n",
              "      <td>0.377436</td>\n",
              "      <td>-1.387024</td>\n",
              "      <td>...</td>\n",
              "      <td>-0.108300</td>\n",
              "      <td>0.005274</td>\n",
              "      <td>-0.190321</td>\n",
              "      <td>-1.175575</td>\n",
              "      <td>0.647376</td>\n",
              "      <td>-0.221929</td>\n",
              "      <td>0.062723</td>\n",
              "      <td>0.061458</td>\n",
              "      <td>123.50</td>\n",
              "      <td>0</td>\n",
              "    </tr>\n",
              "    <tr>\n",
              "      <th>4</th>\n",
              "      <td>2.0</td>\n",
              "      <td>-1.158233</td>\n",
              "      <td>0.877737</td>\n",
              "      <td>1.548718</td>\n",
              "      <td>0.403034</td>\n",
              "      <td>-0.407193</td>\n",
              "      <td>0.095921</td>\n",
              "      <td>0.592941</td>\n",
              "      <td>-0.270533</td>\n",
              "      <td>0.817739</td>\n",
              "      <td>...</td>\n",
              "      <td>-0.009431</td>\n",
              "      <td>0.798278</td>\n",
              "      <td>-0.137458</td>\n",
              "      <td>0.141267</td>\n",
              "      <td>-0.206010</td>\n",
              "      <td>0.502292</td>\n",
              "      <td>0.219422</td>\n",
              "      <td>0.215153</td>\n",
              "      <td>69.99</td>\n",
              "      <td>0</td>\n",
              "    </tr>\n",
              "  </tbody>\n",
              "</table>\n",
              "<p>5 rows × 31 columns</p>\n",
              "</div>"
            ],
            "text/plain": [
              "   Time        V1        V2        V3        V4        V5        V6        V7  \\\n",
              "0   0.0 -1.359807 -0.072781  2.536347  1.378155 -0.338321  0.462388  0.239599   \n",
              "1   0.0  1.191857  0.266151  0.166480  0.448154  0.060018 -0.082361 -0.078803   \n",
              "2   1.0 -1.358354 -1.340163  1.773209  0.379780 -0.503198  1.800499  0.791461   \n",
              "3   1.0 -0.966272 -0.185226  1.792993 -0.863291 -0.010309  1.247203  0.237609   \n",
              "4   2.0 -1.158233  0.877737  1.548718  0.403034 -0.407193  0.095921  0.592941   \n",
              "\n",
              "         V8        V9  ...       V21       V22       V23       V24       V25  \\\n",
              "0  0.098698  0.363787  ... -0.018307  0.277838 -0.110474  0.066928  0.128539   \n",
              "1  0.085102 -0.255425  ... -0.225775 -0.638672  0.101288 -0.339846  0.167170   \n",
              "2  0.247676 -1.514654  ...  0.247998  0.771679  0.909412 -0.689281 -0.327642   \n",
              "3  0.377436 -1.387024  ... -0.108300  0.005274 -0.190321 -1.175575  0.647376   \n",
              "4 -0.270533  0.817739  ... -0.009431  0.798278 -0.137458  0.141267 -0.206010   \n",
              "\n",
              "        V26       V27       V28  Amount  Class  \n",
              "0 -0.189115  0.133558 -0.021053  149.62      0  \n",
              "1  0.125895 -0.008983  0.014724    2.69      0  \n",
              "2 -0.139097 -0.055353 -0.059752  378.66      0  \n",
              "3 -0.221929  0.062723  0.061458  123.50      0  \n",
              "4  0.502292  0.219422  0.215153   69.99      0  \n",
              "\n",
              "[5 rows x 31 columns]"
            ]
          },
          "execution_count": 13,
          "metadata": {},
          "output_type": "execute_result"
        }
      ],
      "source": [
        "file = tf.keras.utils\n",
        "raw_df = pd.read_csv('https://storage.googleapis.com/download.tensorflow.org/data/creditcard.csv')\n",
        "raw_df.head()"
      ]
    },
    {
      "cell_type": "markdown",
      "metadata": {},
      "source": [
        "### Count the Target Outcomes\n",
        "\n",
        "Credit card fraud is relatively rare, at least in view of the total number of transactions. We can count up the target values to see exactly what the expected skew is. "
      ]
    },
    {
      "cell_type": "code",
      "execution_count": 14,
      "metadata": {
        "colab": {
          "base_uri": "https://localhost:8080/"
        },
        "id": "Ec08WeQEi_Fz",
        "outputId": "c35fb180-9017-4304-ce29-fd36ca25bfc2"
      },
      "outputs": [
        {
          "name": "stdout",
          "output_type": "stream",
          "text": [
            "Examples:\n",
            "    Total: 284807\n",
            "    Positive: 492 (0.17% of total)\n",
            "\n"
          ]
        }
      ],
      "source": [
        "# Bincount will count the number in each category\n",
        "neg, pos = np.bincount(raw_df['Class'])\n",
        "total = neg + pos\n",
        "print('Examples:\\n    Total: {}\\n    Positive: {} ({:.2f}% of total)\\n'.format(\n",
        "    total, pos, 100 * pos / total))"
      ]
    },
    {
      "cell_type": "markdown",
      "metadata": {
        "id": "9gr-lqY0tHwp"
      },
      "source": [
        "### We Have an Imbalance\n",
        "\n",
        "A big one. "
      ]
    },
    {
      "cell_type": "code",
      "execution_count": 15,
      "metadata": {
        "colab": {
          "base_uri": "https://localhost:8080/"
        },
        "id": "w5S02N45tGfu",
        "outputId": "27b8e170-e838-4c7d-adf1-b9013e4f9a6b"
      },
      "outputs": [
        {
          "data": {
            "text/plain": [
              "0              0.0\n",
              "1              0.0\n",
              "2              1.0\n",
              "3              1.0\n",
              "4              2.0\n",
              "            ...   \n",
              "284802    172786.0\n",
              "284803    172787.0\n",
              "284804    172788.0\n",
              "284805    172788.0\n",
              "284806    172792.0\n",
              "Name: Time, Length: 284807, dtype: float64"
            ]
          },
          "execution_count": 15,
          "metadata": {},
          "output_type": "execute_result"
        }
      ],
      "source": [
        "# pop just removes a column. The equivalent of how we normally drop. \n",
        "# the TF docs commonly use this, so I've left it as is. \n",
        "cleaned_df = raw_df.copy()\n",
        "# You don't want the `Time` column.\n",
        "cleaned_df.pop('Time')"
      ]
    },
    {
      "cell_type": "code",
      "execution_count": 16,
      "metadata": {
        "id": "-3538h2djFHF"
      },
      "outputs": [],
      "source": [
        "# Use a utility from sklearn to split and shuffle your dataset.\n",
        "train_df, test_df = train_test_split(cleaned_df, test_size=0.2)\n",
        "\n",
        "# Form np arrays of labels and features.\n",
        "train_labels = np.array(train_df.pop('Class'))\n",
        "test_labels = np.array(test_df.pop('Class'))\n",
        "\n",
        "train_features = np.array(train_df)\n",
        "test_features = np.array(test_df)"
      ]
    },
    {
      "cell_type": "code",
      "execution_count": 17,
      "metadata": {
        "colab": {
          "base_uri": "https://localhost:8080/"
        },
        "id": "GC5P3kaBjMwN",
        "outputId": "ed06c86d-234b-4045-b4fc-1c117eddf35a"
      },
      "outputs": [
        {
          "name": "stdout",
          "output_type": "stream",
          "text": [
            "Training features shape: (227845, 29)\n",
            "Training labels shape: (227845,)\n",
            "Test features shape: (56962, 29)\n",
            "Test labels shape: (56962,)\n"
          ]
        }
      ],
      "source": [
        "scaler = StandardScaler()\n",
        "train_features = scaler.fit_transform(train_features)\n",
        "test_features = scaler.transform(test_features)\n",
        "\n",
        "#train_features = np.clip(train_features, -5, 5)\n",
        "#test_features = np.clip(test_features, -5, 5)\n",
        "\n",
        "print('Training features shape:', train_features.shape)\n",
        "print('Training labels shape:', train_labels.shape)\n",
        "print('Test features shape:', test_features.shape)\n",
        "print('Test labels shape:', test_labels.shape)"
      ]
    },
    {
      "attachments": {},
      "cell_type": "markdown",
      "metadata": {
        "id": "jtt_zz0HA6Jp"
      },
      "source": [
        "### Create a Biased Model\n",
        "\n",
        "The bias of the data is inserted in the model compilation step on the output layer. What does this do? It preconfigures the output layer to \"expect\" results to be this skewed. Recall that, along with the weight, the bias values are one of the things that is learned in training. By default the initial values are randomized, so the model needs to learn the skew towards the imbalance - if the balance between classes is moderate, that's not a big deal; if the balance is so drastically skewed in one direction, that's less practical. With the preset bias we can speed convergance and likely reduce loss. \n",
        "\n",
        "#### Other Imbalenced Work\n",
        "\n",
        "Other things that we looked at to improve balance such as under/over sampling still works with neural networks as it would with anything else. This is just one nn-specific thing that we can implement with minimal extra work. \n",
        "\n",
        "#### Metrics\n",
        "\n",
        "We can also add a bunch of metrics to what we get returned by creating a list of the metrics that we want. Keras.metrics has a list, they are all the metrics we might expect. "
      ]
    },
    {
      "cell_type": "code",
      "execution_count": 18,
      "metadata": {
        "colab": {
          "base_uri": "https://localhost:8080/"
        },
        "id": "nO7R0L7XjTZv",
        "outputId": "1344b694-02cc-4855-8d0a-30cd56f4e6d7"
      },
      "outputs": [
        {
          "name": "stdout",
          "output_type": "stream",
          "text": [
            "Model: \"sequential_7\"\n",
            "_________________________________________________________________\n",
            " Layer (type)                Output Shape              Param #   \n",
            "=================================================================\n",
            " dense_25 (Dense)            (None, 16)                480       \n",
            "                                                                 \n",
            " dropout_17 (Dropout)        (None, 16)                0         \n",
            "                                                                 \n",
            " dense_26 (Dense)            (None, 1)                 17        \n",
            "                                                                 \n",
            "=================================================================\n",
            "Total params: 497\n",
            "Trainable params: 497\n",
            "Non-trainable params: 0\n",
            "_________________________________________________________________\n",
            "Epoch 1/30\n",
            "2849/2849 [==============================] - 5s 1ms/step - loss: 0.0097 - precision: 0.6161 - recall: 0.4340 - auc: 0.8519 - prc: 0.3884 - val_loss: 0.0057 - val_precision: 0.8125 - val_recall: 0.5571 - val_auc: 0.8855 - val_prc: 0.5834\n",
            "Epoch 2/30\n",
            "2849/2849 [==============================] - 4s 1ms/step - loss: 0.0053 - precision: 0.8713 - recall: 0.5535 - auc: 0.9078 - prc: 0.6732 - val_loss: 0.0055 - val_precision: 0.8364 - val_recall: 0.6571 - val_auc: 0.8995 - val_prc: 0.6115\n",
            "Epoch 3/30\n",
            "2849/2849 [==============================] - 4s 1ms/step - loss: 0.0053 - precision: 0.8500 - recall: 0.5881 - auc: 0.9094 - prc: 0.6860 - val_loss: 0.0051 - val_precision: 0.8163 - val_recall: 0.5714 - val_auc: 0.8997 - val_prc: 0.5993\n",
            "Epoch 4/30\n",
            "2849/2849 [==============================] - 3s 1ms/step - loss: 0.0049 - precision: 0.8605 - recall: 0.5818 - auc: 0.9222 - prc: 0.7044 - val_loss: 0.0049 - val_precision: 0.8163 - val_recall: 0.5714 - val_auc: 0.8997 - val_prc: 0.6095\n",
            "Epoch 5/30\n",
            "2849/2849 [==============================] - 4s 1ms/step - loss: 0.0049 - precision: 0.8732 - recall: 0.5629 - auc: 0.9222 - prc: 0.7014 - val_loss: 0.0045 - val_precision: 0.8125 - val_recall: 0.5571 - val_auc: 0.9138 - val_prc: 0.6341\n",
            "Epoch 6/30\n",
            "2849/2849 [==============================] - 4s 1ms/step - loss: 0.0047 - precision: 0.8455 - recall: 0.5849 - auc: 0.9267 - prc: 0.7075 - val_loss: 0.0046 - val_precision: 0.8140 - val_recall: 0.5000 - val_auc: 0.9068 - val_prc: 0.6250\n",
            "Epoch 7/30\n",
            "2849/2849 [==============================] - 4s 2ms/step - loss: 0.0046 - precision: 0.8651 - recall: 0.5849 - auc: 0.9284 - prc: 0.7064 - val_loss: 0.0047 - val_precision: 0.8085 - val_recall: 0.5429 - val_auc: 0.9069 - val_prc: 0.6294\n",
            "Epoch 8/30\n",
            "2849/2849 [==============================] - 4s 1ms/step - loss: 0.0043 - precision: 0.8869 - recall: 0.6164 - auc: 0.9347 - prc: 0.7384 - val_loss: 0.0046 - val_precision: 0.8333 - val_recall: 0.6429 - val_auc: 0.9280 - val_prc: 0.6393\n",
            "Epoch 9/30\n",
            "2849/2849 [==============================] - 4s 1ms/step - loss: 0.0041 - precision: 0.8697 - recall: 0.6509 - auc: 0.9253 - prc: 0.7344 - val_loss: 0.0051 - val_precision: 0.8182 - val_recall: 0.6429 - val_auc: 0.9068 - val_prc: 0.6284\n",
            "1781/1781 [==============================] - 2s 924us/step - loss: 0.0030 - precision: 0.9221 - recall: 0.6827 - auc: 0.9468 - prc: 0.8185\n"
          ]
        },
        {
          "data": {
            "image/png": "[encoded data removed]",
            "text/plain": [
              "<Figure size 432x288 with 1 Axes>"
            ]
          },
          "metadata": {
            "needs_background": "light"
          },
          "output_type": "display_data"
        }
      ],
      "source": [
        "METRICS = [\n",
        "      #keras.metrics.TruePositives(name='tp'),\n",
        "      #keras.metrics.FalsePositives(name='fp'),\n",
        "      #keras.metrics.TrueNegatives(name='tn'),\n",
        "      #keras.metrics.FalseNegatives(name='fn'), \n",
        "      #keras.metrics.BinaryAccuracy(name='accuracy'),\n",
        "      keras.metrics.Precision(name='precision'),\n",
        "      keras.metrics.Recall(name='recall'),\n",
        "      keras.metrics.AUC(name='auc'),\n",
        "      keras.metrics.AUC(name='prc', curve='PR'), # precision-recall curve\n",
        "]\n",
        "\n",
        "initial_bias = np.log([pos/neg])\n",
        "\n",
        "output_bias = tf.keras.initializers.Constant(initial_bias)\n",
        "model = keras.Sequential()\n",
        "model.add(keras.layers.Dense(16, activation='relu',input_shape=(train_features.shape[-1],)))\n",
        "model.add(keras.layers.Dropout(0.5))\n",
        "model.add(keras.layers.Dense(1, activation='sigmoid', bias_initializer=output_bias))\n",
        "model.summary()\n",
        "\n",
        "callback = tf.keras.callbacks.EarlyStopping(monitor='val_loss', patience=4, restore_best_weights=True) \n",
        "\n",
        "#model.compile(optimizer=keras.optimizers.Adam(learning_rate=1e-3),loss=keras.losses.BinaryCrossentropy(),metrics=metrics)\n",
        "model.compile(optimizer=\"adam\",loss=\"binary_crossentropy\",metrics=METRICS)\n",
        "#Fit\n",
        "train_log = model.fit(\n",
        "  train_features,\n",
        "  train_labels,\n",
        "  epochs=30,\n",
        "  batch_size=64,\n",
        "  validation_split=0.2,\n",
        "  callbacks=[callback]\n",
        ")\n",
        "model.evaluate(test_features, test_labels)\n",
        "plot_loss(train_log)"
      ]
    },
    {
      "attachments": {},
      "cell_type": "markdown",
      "metadata": {
        "id": "NdPzxFgXbYHI"
      },
      "source": [
        "## Pruning\n",
        "\n",
        "We can also use pruning to improve our networks, which is built into Tensorflow and is similar in concept to the tree pruning we did earlier. \n",
        "\n",
        "### Pruning Results\n",
        "\n",
        "Pruning removes the least useful weights, increasing sparsity. These sparse models require less processing (since many calculations will be M * 0) and may be compressed down to take less space in memory. \n",
        "\n",
        "### Smaller Models\n",
        "\n",
        "One other consideration is that we can use pruning to create smaller models that are better able to be executed on weaker hardware. In the context of a full computer, creating a prediction with a neural network is pretty fast. If we want to move the model to small embedded devices though, the memory and processing needs can still be excessive. Some scenarios where this comes up are things like security cameras that can recognize images, robots that can navigate themselves, or evern small computers like a Raspberry Pi. For example, if you have a self driving small car, you may collect training data from the car's camera and sensors (throttle, steering, etc..), train a model that can produce a \"how to drive\" prediction on a computer, then export a condensed version of that model that can run on the car's smaller low powered processor to make the predictions as the car drives. This challenge is magnified if you are dealing with something like video, which can generate 30+ images per second. Small models that are almost as good, but can be run with less compouting power allow the power of neural networks to be expanded to more devices - train on a powerful computer, us on a small and weak computer.\n",
        "\n",
        "We can use the tflite set of tools to create special models that are optimized for lower computing power devices, though we won't explore that here. \n",
        "\n",
        "**Note:** pruning is largely a step that is for deployment of models, as we can make the processing more efficient and the memory required lesser. For us, it isn't the most critical of steps. In general, a smaller model that produces the same or similar accuracy is better, as you can do more with less. The reduction of overfitting and potential accuracy benefits are somewhat secondary to making the model more usable in practice. "
      ]
    },
    {
      "cell_type": "code",
      "execution_count": 19,
      "metadata": {
        "colab": {
          "base_uri": "https://localhost:8080/"
        },
        "id": "0FzYRlh3vtFH",
        "outputId": "3c0d4f0e-029d-4ae8-a0c9-4509b947f236"
      },
      "outputs": [
        {
          "name": "stdout",
          "output_type": "stream",
          "text": [
            "Requirement already satisfied: tensorflow_model_optimization in /Users/akeems/opt/anaconda3/envs/ml3950/lib/python3.9/site-packages (0.7.2)\n",
            "Requirement already satisfied: numpy~=1.14 in /Users/akeems/opt/anaconda3/envs/ml3950/lib/python3.9/site-packages (from tensorflow_model_optimization) (1.21.5)\n",
            "Requirement already satisfied: dm-tree~=0.1.1 in /Users/akeems/opt/anaconda3/envs/ml3950/lib/python3.9/site-packages (from tensorflow_model_optimization) (0.1.6)\n",
            "Requirement already satisfied: six~=1.10 in /Users/akeems/opt/anaconda3/envs/ml3950/lib/python3.9/site-packages (from tensorflow_model_optimization) (1.16.0)\n"
          ]
        }
      ],
      "source": [
        "!pip install tensorflow_model_optimization"
      ]
    },
    {
      "cell_type": "code",
      "execution_count": 20,
      "metadata": {
        "colab": {
          "base_uri": "https://localhost:8080/"
        },
        "id": "RrXm0AC9bYHI",
        "outputId": "72e2ad31-aa4f-4760-d10c-615ce87eb5ae"
      },
      "outputs": [
        {
          "name": "stdout",
          "output_type": "stream",
          "text": [
            "WARNING:tensorflow:From /Users/akeems/opt/anaconda3/envs/ml3950/lib/python3.9/site-packages/tensorflow/python/autograph/pyct/static_analysis/liveness.py:83: Analyzer.lamba_check (from tensorflow.python.autograph.pyct.static_analysis.liveness) is deprecated and will be removed after 2023-09-23.\n",
            "Instructions for updating:\n",
            "Lambda fuctions will be no more assumed to be used in the statement where they are used, or at least in the same block. https://github.com/tensorflow/tensorflow/issues/56089\n"
          ]
        },
        {
          "name": "stderr",
          "output_type": "stream",
          "text": [
            "/Users/akeems/opt/anaconda3/envs/ml3950/lib/python3.9/site-packages/tensorflow_model_optimization/python/core/sparsity/keras/pruning_wrapper.py:212: UserWarning: `layer.add_variable` is deprecated and will be removed in a future version. Please use the `layer.add_weight()` method instead.\n",
            "  mask = self.add_variable(\n",
            "/Users/akeems/opt/anaconda3/envs/ml3950/lib/python3.9/site-packages/tensorflow_model_optimization/python/core/sparsity/keras/pruning_wrapper.py:219: UserWarning: `layer.add_variable` is deprecated and will be removed in a future version. Please use the `layer.add_weight()` method instead.\n",
            "  threshold = self.add_variable(\n",
            "/Users/akeems/opt/anaconda3/envs/ml3950/lib/python3.9/site-packages/tensorflow_model_optimization/python/core/sparsity/keras/pruning_wrapper.py:233: UserWarning: `layer.add_variable` is deprecated and will be removed in a future version. Please use the `layer.add_weight()` method instead.\n",
            "  self.pruning_step = self.add_variable(\n",
            "WARNING:tensorflow:From /Users/akeems/opt/anaconda3/envs/ml3950/lib/python3.9/site-packages/tensorflow/python/autograph/pyct/static_analysis/liveness.py:83: Analyzer.lamba_check (from tensorflow.python.autograph.pyct.static_analysis.liveness) is deprecated and will be removed after 2023-09-23.\n",
            "Instructions for updating:\n",
            "Lambda fuctions will be no more assumed to be used in the statement where they are used, or at least in the same block. https://github.com/tensorflow/tensorflow/issues/56089\n"
          ]
        },
        {
          "name": "stdout",
          "output_type": "stream",
          "text": [
            "Model: \"sequential_7\"\n",
            "_________________________________________________________________\n",
            " Layer (type)                Output Shape              Param #   \n",
            "=================================================================\n",
            " prune_low_magnitude_dense_2  (None, 16)               946       \n",
            " 5 (PruneLowMagnitude)                                           \n",
            "                                                                 \n",
            " prune_low_magnitude_dropout  (None, 16)               1         \n",
            " _17 (PruneLowMagnitude)                                         \n",
            "                                                                 \n",
            " prune_low_magnitude_dense_2  (None, 1)                35        \n",
            " 6 (PruneLowMagnitude)                                           \n",
            "                                                                 \n",
            "=================================================================\n",
            "Total params: 982\n",
            "Trainable params: 497\n",
            "Non-trainable params: 485\n",
            "_________________________________________________________________\n"
          ]
        }
      ],
      "source": [
        "import tensorflow_model_optimization as tfmot\n",
        "\n",
        "prune_low_magnitude = tfmot.sparsity.keras.prune_low_magnitude\n",
        "model_for_pruning = prune_low_magnitude(model)\n",
        "\n",
        "\n",
        "model_for_pruning.compile(optimizer=\"adam\",loss=\"binary_crossentropy\",metrics=METRICS)\n",
        "\n",
        "model_for_pruning.summary()"
      ]
    },
    {
      "cell_type": "code",
      "execution_count": 21,
      "metadata": {
        "colab": {
          "base_uri": "https://localhost:8080/"
        },
        "id": "X3sPhB8EbYHI",
        "outputId": "be02d7f7-896a-4d1b-8041-6f476ee62c4e"
      },
      "outputs": [
        {
          "name": "stdout",
          "output_type": "stream",
          "text": [
            "Epoch 1/20\n",
            "2849/2849 [==============================] - 6s 2ms/step - loss: 0.0069 - precision: 0.9059 - recall: 0.4336 - auc: 0.8487 - prc: 0.6036 - val_loss: 0.0049 - val_precision: 0.7568 - val_recall: 0.4000 - val_auc: 0.8926 - val_prc: 0.5896\n",
            "Epoch 2/20\n",
            "2849/2849 [==============================] - 4s 2ms/step - loss: 0.0062 - precision: 0.8941 - recall: 0.4780 - auc: 0.8218 - prc: 0.5498 - val_loss: 0.0049 - val_precision: 0.7419 - val_recall: 0.3286 - val_auc: 0.8926 - val_prc: 0.6383\n",
            "Epoch 3/20\n",
            "2849/2849 [==============================] - 5s 2ms/step - loss: 0.0062 - precision: 0.8776 - recall: 0.4057 - auc: 0.8232 - prc: 0.5432 - val_loss: 0.0047 - val_precision: 0.7632 - val_recall: 0.4143 - val_auc: 0.9067 - val_prc: 0.6166\n",
            "Epoch 4/20\n",
            "2849/2849 [==============================] - 4s 2ms/step - loss: 0.0066 - precision: 0.8477 - recall: 0.4025 - auc: 0.8095 - prc: 0.5061 - val_loss: 0.0046 - val_precision: 0.7419 - val_recall: 0.3286 - val_auc: 0.9138 - val_prc: 0.6551\n",
            "Epoch 5/20\n",
            "2849/2849 [==============================] - 4s 2ms/step - loss: 0.0060 - precision: 0.8758 - recall: 0.4214 - auc: 0.8296 - prc: 0.5524 - val_loss: 0.0046 - val_precision: 0.7500 - val_recall: 0.3429 - val_auc: 0.9209 - val_prc: 0.6615\n",
            "Epoch 6/20\n",
            "2849/2849 [==============================] - 5s 2ms/step - loss: 0.0062 - precision: 0.8701 - recall: 0.4214 - auc: 0.8052 - prc: 0.5326 - val_loss: 0.0045 - val_precision: 0.7500 - val_recall: 0.3429 - val_auc: 0.9137 - val_prc: 0.6465\n",
            "Epoch 7/20\n",
            "2849/2849 [==============================] - 5s 2ms/step - loss: 0.0056 - precision: 0.9062 - recall: 0.4560 - auc: 0.8327 - prc: 0.5873 - val_loss: 0.0045 - val_precision: 0.7857 - val_recall: 0.4714 - val_auc: 0.9137 - val_prc: 0.5997\n",
            "Epoch 8/20\n",
            "2849/2849 [==============================] - 5s 2ms/step - loss: 0.0060 - precision: 0.8734 - recall: 0.4340 - auc: 0.8314 - prc: 0.5495 - val_loss: 0.0044 - val_precision: 0.7750 - val_recall: 0.4429 - val_auc: 0.9280 - val_prc: 0.6274\n",
            "Epoch 9/20\n",
            "2849/2849 [==============================] - 5s 2ms/step - loss: 0.0063 - precision: 0.8684 - recall: 0.4151 - auc: 0.9219 - prc: 0.5176 - val_loss: 0.0044 - val_precision: 0.7568 - val_recall: 0.4000 - val_auc: 0.9138 - val_prc: 0.6294\n",
            "Epoch 10/20\n",
            "2849/2849 [==============================] - 4s 1ms/step - loss: 0.0059 - precision: 0.8625 - recall: 0.4340 - auc: 0.9371 - prc: 0.5739 - val_loss: 0.0044 - val_precision: 0.7750 - val_recall: 0.4429 - val_auc: 0.9208 - val_prc: 0.6243\n",
            "Epoch 11/20\n",
            "2849/2849 [==============================] - 4s 2ms/step - loss: 0.0059 - precision: 0.8333 - recall: 0.4245 - auc: 0.9347 - prc: 0.5580 - val_loss: 0.0044 - val_precision: 0.7692 - val_recall: 0.4286 - val_auc: 0.9209 - val_prc: 0.6424\n",
            "Epoch 12/20\n",
            "2849/2849 [==============================] - 4s 2ms/step - loss: 0.0061 - precision: 0.8514 - recall: 0.3962 - auc: 0.9373 - prc: 0.5388 - val_loss: 0.0043 - val_precision: 0.7568 - val_recall: 0.4000 - val_auc: 0.9209 - val_prc: 0.6387\n",
            "Epoch 13/20\n",
            "2849/2849 [==============================] - 5s 2ms/step - loss: 0.0060 - precision: 0.8562 - recall: 0.3931 - auc: 0.9361 - prc: 0.5487 - val_loss: 0.0043 - val_precision: 0.7857 - val_recall: 0.4714 - val_auc: 0.9209 - val_prc: 0.6253\n",
            "Epoch 14/20\n",
            "2849/2849 [==============================] - 5s 2ms/step - loss: 0.0052 - precision: 0.8844 - recall: 0.4811 - auc: 0.9348 - prc: 0.6281 - val_loss: 0.0043 - val_precision: 0.7857 - val_recall: 0.4714 - val_auc: 0.9209 - val_prc: 0.6226\n",
            "Epoch 15/20\n",
            "2849/2849 [==============================] - 5s 2ms/step - loss: 0.0058 - precision: 0.8476 - recall: 0.4371 - auc: 0.9309 - prc: 0.5681 - val_loss: 0.0043 - val_precision: 0.7632 - val_recall: 0.4143 - val_auc: 0.9209 - val_prc: 0.6378\n",
            "Epoch 16/20\n",
            "2849/2849 [==============================] - 5s 2ms/step - loss: 0.0059 - precision: 0.9014 - recall: 0.4025 - auc: 0.9322 - prc: 0.5296 - val_loss: 0.0043 - val_precision: 0.8043 - val_recall: 0.5286 - val_auc: 0.9209 - val_prc: 0.6168\n",
            "Epoch 17/20\n",
            "2849/2849 [==============================] - 4s 2ms/step - loss: 0.0059 - precision: 0.8805 - recall: 0.4403 - auc: 0.9372 - prc: 0.5442 - val_loss: 0.0043 - val_precision: 0.7632 - val_recall: 0.4143 - val_auc: 0.9208 - val_prc: 0.6332\n",
            "Epoch 18/20\n",
            "2849/2849 [==============================] - 4s 1ms/step - loss: 0.0055 - precision: 0.8649 - recall: 0.4025 - auc: 0.9387 - prc: 0.5828 - val_loss: 0.0043 - val_precision: 0.8085 - val_recall: 0.5429 - val_auc: 0.9278 - val_prc: 0.6172\n",
            "Epoch 19/20\n",
            "2849/2849 [==============================] - 4s 2ms/step - loss: 0.0056 - precision: 0.8521 - recall: 0.4528 - auc: 0.9386 - prc: 0.5793 - val_loss: 0.0043 - val_precision: 0.7692 - val_recall: 0.4286 - val_auc: 0.9279 - val_prc: 0.6441\n",
            "Epoch 20/20\n",
            "2849/2849 [==============================] - 4s 2ms/step - loss: 0.0056 - precision: 0.8704 - recall: 0.4434 - auc: 0.9485 - prc: 0.5679 - val_loss: 0.0043 - val_precision: 0.7568 - val_recall: 0.4000 - val_auc: 0.9279 - val_prc: 0.6397\n",
            "1781/1781 [==============================] - 2s 987us/step - loss: 0.0034 - precision: 0.8846 - recall: 0.4423 - auc: 0.9515 - prc: 0.7970\n",
            "[0.0034309253096580505, 0.8846153616905212, 0.4423076808452606, 0.9515101909637451, 0.7970322370529175]\n"
          ]
        },
        {
          "data": {
            "image/png": "[encoded data removed]",
            "text/plain": [
              "<Figure size 432x288 with 1 Axes>"
            ]
          },
          "metadata": {
            "needs_background": "light"
          },
          "output_type": "display_data"
        }
      ],
      "source": [
        "# Add Callbacks\n",
        "callbacks = [\n",
        "  tfmot.sparsity.keras.UpdatePruningStep(),\n",
        "  tf.keras.callbacks.EarlyStopping(monitor='val_loss', patience=8, restore_best_weights=True)\n",
        "]\n",
        "\n",
        "train_log = model_for_pruning.fit(\n",
        "                                  train_features,\n",
        "                                  train_labels,\n",
        "                                  batch_size=64,\n",
        "                                  epochs=20,\n",
        "                                  validation_split=.2,\n",
        "                                  callbacks=callbacks\n",
        "                                  )\n",
        "print(model_for_pruning.evaluate(test_features, test_labels))\n",
        "plot_loss(train_log)"
      ]
    },
    {
      "attachments": {},
      "cell_type": "markdown",
      "metadata": {},
      "source": [
        "## Exercise\n",
        "\n",
        "Predict the price of diamonds! (The example solutions are fairly extreme in terms of the approach they take, you'll probably be ok with less dramatic approaches.)\n",
        "\n",
        "![Diamonds](images/diamonds.jpeg \"Diamonds\" )"
      ]
    },
    {
      "cell_type": "code",
      "execution_count": 22,
      "metadata": {},
      "outputs": [
        {
          "data": {
            "text/html": [
              "<div>\n",
              "<style scoped>\n",
              "    .dataframe tbody tr th:only-of-type {\n",
              "        vertical-align: middle;\n",
              "    }\n",
              "\n",
              "    .dataframe tbody tr th {\n",
              "        vertical-align: top;\n",
              "    }\n",
              "\n",
              "    .dataframe thead th {\n",
              "        text-align: right;\n",
              "    }\n",
              "</style>\n",
              "<table border=\"1\" class=\"dataframe\">\n",
              "  <thead>\n",
              "    <tr style=\"text-align: right;\">\n",
              "      <th></th>\n",
              "      <th>carat</th>\n",
              "      <th>depth</th>\n",
              "      <th>table</th>\n",
              "      <th>price</th>\n",
              "      <th>x</th>\n",
              "      <th>y</th>\n",
              "      <th>z</th>\n",
              "      <th>cut_Ideal</th>\n",
              "      <th>cut_Premium</th>\n",
              "      <th>cut_Very Good</th>\n",
              "      <th>...</th>\n",
              "      <th>color_I</th>\n",
              "      <th>color_J</th>\n",
              "      <th>clarity_IF</th>\n",
              "      <th>clarity_VVS1</th>\n",
              "      <th>clarity_VVS2</th>\n",
              "      <th>clarity_VS1</th>\n",
              "      <th>clarity_VS2</th>\n",
              "      <th>clarity_SI1</th>\n",
              "      <th>clarity_SI2</th>\n",
              "      <th>clarity_I1</th>\n",
              "    </tr>\n",
              "  </thead>\n",
              "  <tbody>\n",
              "    <tr>\n",
              "      <th>0</th>\n",
              "      <td>0.23</td>\n",
              "      <td>61.5</td>\n",
              "      <td>55.0</td>\n",
              "      <td>326</td>\n",
              "      <td>3.95</td>\n",
              "      <td>3.98</td>\n",
              "      <td>2.43</td>\n",
              "      <td>1</td>\n",
              "      <td>0</td>\n",
              "      <td>0</td>\n",
              "      <td>...</td>\n",
              "      <td>0</td>\n",
              "      <td>0</td>\n",
              "      <td>0</td>\n",
              "      <td>0</td>\n",
              "      <td>0</td>\n",
              "      <td>0</td>\n",
              "      <td>0</td>\n",
              "      <td>0</td>\n",
              "      <td>1</td>\n",
              "      <td>0</td>\n",
              "    </tr>\n",
              "    <tr>\n",
              "      <th>1</th>\n",
              "      <td>0.21</td>\n",
              "      <td>59.8</td>\n",
              "      <td>61.0</td>\n",
              "      <td>326</td>\n",
              "      <td>3.89</td>\n",
              "      <td>3.84</td>\n",
              "      <td>2.31</td>\n",
              "      <td>0</td>\n",
              "      <td>1</td>\n",
              "      <td>0</td>\n",
              "      <td>...</td>\n",
              "      <td>0</td>\n",
              "      <td>0</td>\n",
              "      <td>0</td>\n",
              "      <td>0</td>\n",
              "      <td>0</td>\n",
              "      <td>0</td>\n",
              "      <td>0</td>\n",
              "      <td>1</td>\n",
              "      <td>0</td>\n",
              "      <td>0</td>\n",
              "    </tr>\n",
              "    <tr>\n",
              "      <th>2</th>\n",
              "      <td>0.23</td>\n",
              "      <td>56.9</td>\n",
              "      <td>65.0</td>\n",
              "      <td>327</td>\n",
              "      <td>4.05</td>\n",
              "      <td>4.07</td>\n",
              "      <td>2.31</td>\n",
              "      <td>0</td>\n",
              "      <td>0</td>\n",
              "      <td>0</td>\n",
              "      <td>...</td>\n",
              "      <td>0</td>\n",
              "      <td>0</td>\n",
              "      <td>0</td>\n",
              "      <td>0</td>\n",
              "      <td>0</td>\n",
              "      <td>1</td>\n",
              "      <td>0</td>\n",
              "      <td>0</td>\n",
              "      <td>0</td>\n",
              "      <td>0</td>\n",
              "    </tr>\n",
              "    <tr>\n",
              "      <th>3</th>\n",
              "      <td>0.29</td>\n",
              "      <td>62.4</td>\n",
              "      <td>58.0</td>\n",
              "      <td>334</td>\n",
              "      <td>4.20</td>\n",
              "      <td>4.23</td>\n",
              "      <td>2.63</td>\n",
              "      <td>0</td>\n",
              "      <td>1</td>\n",
              "      <td>0</td>\n",
              "      <td>...</td>\n",
              "      <td>1</td>\n",
              "      <td>0</td>\n",
              "      <td>0</td>\n",
              "      <td>0</td>\n",
              "      <td>0</td>\n",
              "      <td>0</td>\n",
              "      <td>1</td>\n",
              "      <td>0</td>\n",
              "      <td>0</td>\n",
              "      <td>0</td>\n",
              "    </tr>\n",
              "    <tr>\n",
              "      <th>4</th>\n",
              "      <td>0.31</td>\n",
              "      <td>63.3</td>\n",
              "      <td>58.0</td>\n",
              "      <td>335</td>\n",
              "      <td>4.34</td>\n",
              "      <td>4.35</td>\n",
              "      <td>2.75</td>\n",
              "      <td>0</td>\n",
              "      <td>0</td>\n",
              "      <td>0</td>\n",
              "      <td>...</td>\n",
              "      <td>0</td>\n",
              "      <td>1</td>\n",
              "      <td>0</td>\n",
              "      <td>0</td>\n",
              "      <td>0</td>\n",
              "      <td>0</td>\n",
              "      <td>0</td>\n",
              "      <td>0</td>\n",
              "      <td>1</td>\n",
              "      <td>0</td>\n",
              "    </tr>\n",
              "  </tbody>\n",
              "</table>\n",
              "<p>5 rows × 27 columns</p>\n",
              "</div>"
            ],
            "text/plain": [
              "   carat  depth  table  price     x     y     z  cut_Ideal  cut_Premium  \\\n",
              "0   0.23   61.5   55.0    326  3.95  3.98  2.43          1            0   \n",
              "1   0.21   59.8   61.0    326  3.89  3.84  2.31          0            1   \n",
              "2   0.23   56.9   65.0    327  4.05  4.07  2.31          0            0   \n",
              "3   0.29   62.4   58.0    334  4.20  4.23  2.63          0            1   \n",
              "4   0.31   63.3   58.0    335  4.34  4.35  2.75          0            0   \n",
              "\n",
              "   cut_Very Good  ...  color_I  color_J  clarity_IF  clarity_VVS1  \\\n",
              "0              0  ...        0        0           0             0   \n",
              "1              0  ...        0        0           0             0   \n",
              "2              0  ...        0        0           0             0   \n",
              "3              0  ...        1        0           0             0   \n",
              "4              0  ...        0        1           0             0   \n",
              "\n",
              "   clarity_VVS2  clarity_VS1  clarity_VS2  clarity_SI1  clarity_SI2  \\\n",
              "0             0            0            0            0            1   \n",
              "1             0            0            0            1            0   \n",
              "2             0            1            0            0            0   \n",
              "3             0            0            1            0            0   \n",
              "4             0            0            0            0            1   \n",
              "\n",
              "   clarity_I1  \n",
              "0           0  \n",
              "1           0  \n",
              "2           0  \n",
              "3           0  \n",
              "4           0  \n",
              "\n",
              "[5 rows x 27 columns]"
            ]
          },
          "execution_count": 22,
          "metadata": {},
          "output_type": "execute_result"
        }
      ],
      "source": [
        "ex_df = sns.load_dataset(\"diamonds\")\n",
        "ex_df = pd.get_dummies(ex_df)\n",
        "ex_df.head()"
      ]
    },
    {
      "cell_type": "code",
      "execution_count": 23,
      "metadata": {},
      "outputs": [
        {
          "data": {
            "text/plain": [
              "26"
            ]
          },
          "execution_count": 23,
          "metadata": {},
          "output_type": "execute_result"
        }
      ],
      "source": [
        "y = ex_df[\"price\"]\n",
        "X = ex_df.drop(columns={\"price\"})\n",
        "X_tr_ex, X_te_ex, y_tr_ex, y_te_ex = train_test_split(X, y)\n",
        "start_width = X.shape[1]\n",
        "start_width"
      ]
    },
    {
      "cell_type": "markdown",
      "metadata": {},
      "source": [
        "#### Generate a Baseline\n",
        "\n",
        "I'll use a different loss - mean absolute percentage. "
      ]
    },
    {
      "cell_type": "code",
      "execution_count": 24,
      "metadata": {},
      "outputs": [
        {
          "name": "stdout",
          "output_type": "stream",
          "text": [
            "422/422 [==============================] - 0s 759us/step - loss: 9.7217\n",
            "9.721675872802734\n"
          ]
        },
        {
          "data": {
            "image/png": "[encoded data removed]",
            "text/plain": [
              "<Figure size 432x288 with 1 Axes>"
            ]
          },
          "metadata": {
            "needs_background": "light"
          },
          "output_type": "display_data"
        }
      ],
      "source": [
        "#baseline\n",
        "normalizer = tf.keras.layers.Normalization(axis=-1)\n",
        "normalizer.adapt(np.array(X_tr_ex))\n",
        "\n",
        "mod_ex = keras.Sequential()\n",
        "mod_ex.add(normalizer)\n",
        "mod_ex.add(InputLayer(input_shape=(start_width,)))\n",
        "mod_ex.add(Dense(start_width, activation='relu'))\n",
        "mod_ex.add(Dense(1))\n",
        "\n",
        "mod_ex.compile(optimizer='adam', loss=\"mean_absolute_percentage_error\")\n",
        "\n",
        "callback = tf.keras.callbacks.EarlyStopping(monitor='loss', patience=12, restore_best_weights=True) \n",
        "\n",
        "hist_ex = mod_ex.fit(\n",
        "  X_tr_ex,\n",
        "  y_tr_ex,\n",
        "  epochs=100,\n",
        "  batch_size=64,\n",
        "  validation_split=0.2,\n",
        "  callbacks=[callback],\n",
        "  verbose=0\n",
        ")\n",
        "print(mod_ex.evaluate(X_te_ex, y_te_ex))\n",
        "plot_loss(hist_ex)"
      ]
    },
    {
      "cell_type": "markdown",
      "metadata": {},
      "source": [
        "### Attempt Optimization\n",
        "\n",
        "Looks like lots of loss! What to do?\n",
        "\n",
        "Things to try:\n",
        "<ol>\n",
        "<li> Depth.\n",
        "<li> Width. \n",
        "<li> Activations. \n",
        "<li> Batches. \n",
        "</ol>"
      ]
    },
    {
      "cell_type": "code",
      "execution_count": 25,
      "metadata": {},
      "outputs": [
        {
          "name": "stdout",
          "output_type": "stream",
          "text": [
            "422/422 [==============================] - 1s 1ms/step - loss: 6.5343\n",
            "6.534334659576416\n"
          ]
        },
        {
          "data": {
            "image/png": "[encoded data removed]",
            "text/plain": [
              "<Figure size 432x288 with 1 Axes>"
            ]
          },
          "metadata": {
            "needs_background": "light"
          },
          "output_type": "display_data"
        }
      ],
      "source": [
        "#Comically Deep Model\n",
        "normalizer = tf.keras.layers.Normalization(axis=-1)\n",
        "normalizer.adapt(np.array(X_tr_ex))\n",
        "\n",
        "mod_ex = keras.Sequential()\n",
        "mod_ex.add(normalizer)\n",
        "mod_ex.add(InputLayer(input_shape=(start_width,)))\n",
        "mod_ex.add(Dense(start_width, activation='relu'))\n",
        "mod_ex.add(Dense(start_width, activation='relu'))\n",
        "mod_ex.add(Dense(start_width, activation='relu'))\n",
        "mod_ex.add(Dense(start_width, activation='relu'))\n",
        "mod_ex.add(Dense(start_width, activation='relu'))\n",
        "mod_ex.add(Dense(start_width, activation='relu'))\n",
        "mod_ex.add(Dense(start_width, activation='relu'))\n",
        "mod_ex.add(Dense(start_width, activation='relu'))\n",
        "mod_ex.add(Dense(start_width, activation='relu'))\n",
        "mod_ex.add(Dense(start_width, activation='relu'))\n",
        "mod_ex.add(Dense(start_width, activation='relu'))\n",
        "mod_ex.add(Dense(start_width, activation='relu'))\n",
        "mod_ex.add(Dense(start_width, activation='relu'))\n",
        "mod_ex.add(Dense(start_width, activation='relu'))\n",
        "mod_ex.add(Dense(start_width, activation='relu'))\n",
        "mod_ex.add(Dense(start_width, activation='relu'))\n",
        "mod_ex.add(Dense(start_width, activation='relu'))\n",
        "mod_ex.add(Dense(start_width, activation='relu'))\n",
        "mod_ex.add(Dense(start_width, activation='relu'))\n",
        "mod_ex.add(Dense(start_width, activation='relu'))\n",
        "mod_ex.add(Dense(start_width, activation='relu'))\n",
        "mod_ex.add(Dense(start_width, activation='relu'))\n",
        "mod_ex.add(Dense(start_width, activation='relu'))\n",
        "mod_ex.add(Dense(start_width, activation='relu'))\n",
        "mod_ex.add(Dense(1))\n",
        "\n",
        "mod_ex.compile(optimizer='adam', loss=\"mean_absolute_percentage_error\")\n",
        "\n",
        "callback = tf.keras.callbacks.EarlyStopping(monitor='loss', patience=20, restore_best_weights=True) \n",
        "\n",
        "hist_ex = mod_ex.fit(\n",
        "  X_tr_ex,\n",
        "  y_tr_ex,\n",
        "  epochs=1000,\n",
        "  batch_size=64,\n",
        "  validation_split=0.2,\n",
        "  callbacks=[callback],\n",
        "  verbose=0\n",
        ")\n",
        "print(mod_ex.evaluate(X_te_ex, y_te_ex))\n",
        "plot_loss(hist_ex)"
      ]
    },
    {
      "cell_type": "markdown",
      "metadata": {},
      "source": [
        "##### Try Adding Dropouts\n",
        "\n",
        "We don't have a bunch of overfitting, so we may not expect miracles here... "
      ]
    },
    {
      "cell_type": "code",
      "execution_count": 26,
      "metadata": {},
      "outputs": [
        {
          "name": "stdout",
          "output_type": "stream",
          "text": [
            "422/422 [==============================] - 0s 1ms/step - loss: 66.2057\n",
            "66.2057113647461\n"
          ]
        },
        {
          "data": {
            "image/png": "[encoded data removed]",
            "text/plain": [
              "<Figure size 432x288 with 1 Axes>"
            ]
          },
          "metadata": {
            "needs_background": "light"
          },
          "output_type": "display_data"
        }
      ],
      "source": [
        "#Comically Deep Model with Dropouts\n",
        "normalizer = tf.keras.layers.Normalization(axis=-1)\n",
        "normalizer.adapt(np.array(X_tr_ex))\n",
        "\n",
        "mod_ex = keras.Sequential()\n",
        "mod_ex.add(normalizer)\n",
        "mod_ex.add(InputLayer(input_shape=(start_width,)))\n",
        "mod_ex.add(Dense(start_width, activation='relu'))\n",
        "mod_ex.add(Dropout(.2))\n",
        "mod_ex.add(Dense(start_width, activation='relu'))\n",
        "mod_ex.add(Dropout(.2))\n",
        "mod_ex.add(Dense(start_width, activation='relu'))\n",
        "mod_ex.add(Dropout(.2))\n",
        "mod_ex.add(Dense(start_width, activation='relu'))\n",
        "mod_ex.add(Dropout(.2))\n",
        "mod_ex.add(Dense(start_width, activation='relu'))\n",
        "mod_ex.add(Dropout(.2))\n",
        "mod_ex.add(Dense(start_width, activation='relu'))\n",
        "mod_ex.add(Dropout(.2))\n",
        "mod_ex.add(Dense(start_width, activation='relu'))\n",
        "mod_ex.add(Dropout(.2))\n",
        "mod_ex.add(Dense(start_width, activation='relu'))\n",
        "mod_ex.add(Dropout(.2))\n",
        "mod_ex.add(Dense(start_width, activation='relu'))\n",
        "mod_ex.add(Dropout(.2))\n",
        "mod_ex.add(Dense(start_width, activation='relu'))\n",
        "mod_ex.add(Dropout(.2))\n",
        "mod_ex.add(Dense(start_width, activation='relu'))\n",
        "mod_ex.add(Dropout(.2))\n",
        "mod_ex.add(Dense(start_width, activation='relu'))\n",
        "mod_ex.add(Dropout(.2))\n",
        "mod_ex.add(Dense(start_width, activation='relu'))\n",
        "mod_ex.add(Dropout(.2))\n",
        "mod_ex.add(Dense(start_width, activation='relu'))\n",
        "mod_ex.add(Dropout(.2))\n",
        "mod_ex.add(Dense(start_width, activation='relu'))\n",
        "mod_ex.add(Dropout(.2))\n",
        "mod_ex.add(Dense(start_width, activation='relu'))\n",
        "mod_ex.add(Dropout(.2))\n",
        "mod_ex.add(Dense(start_width, activation='relu'))\n",
        "mod_ex.add(Dropout(.2))\n",
        "mod_ex.add(Dense(start_width, activation='relu'))\n",
        "mod_ex.add(Dropout(.2))\n",
        "mod_ex.add(Dense(start_width, activation='relu'))\n",
        "mod_ex.add(Dropout(.2))\n",
        "mod_ex.add(Dense(start_width, activation='relu'))\n",
        "mod_ex.add(Dropout(.2))\n",
        "mod_ex.add(Dense(start_width, activation='relu'))\n",
        "mod_ex.add(Dropout(.2))\n",
        "mod_ex.add(Dense(start_width, activation='relu'))\n",
        "mod_ex.add(Dropout(.2))\n",
        "mod_ex.add(Dense(start_width, activation='relu'))\n",
        "mod_ex.add(Dropout(.2))\n",
        "mod_ex.add(Dense(start_width, activation='relu'))\n",
        "mod_ex.add(Dropout(.2))\n",
        "mod_ex.add(Dense(1))\n",
        "\n",
        "mod_ex.compile(optimizer='adam', loss=\"mean_absolute_percentage_error\")\n",
        "\n",
        "callback = tf.keras.callbacks.EarlyStopping(monitor='loss', patience=20, restore_best_weights=True) \n",
        "\n",
        "hist_ex = mod_ex.fit(\n",
        "  X_tr_ex,\n",
        "  y_tr_ex,\n",
        "  epochs=200,\n",
        "  batch_size=64,\n",
        "  validation_split=0.2,\n",
        "  callbacks=[callback],\n",
        "  verbose=0\n",
        ")\n",
        "print(mod_ex.evaluate(X_te_ex, y_te_ex))\n",
        "plot_loss(hist_ex)"
      ]
    },
    {
      "cell_type": "markdown",
      "metadata": {},
      "source": [
        "##### Taper Model Somewhat"
      ]
    },
    {
      "cell_type": "code",
      "execution_count": 27,
      "metadata": {},
      "outputs": [
        {
          "name": "stdout",
          "output_type": "stream",
          "text": [
            "Epoch 1/1000\n",
            "506/506 [==============================] - 3s 3ms/step - loss: 99.9699 - mean_squared_error: 31521264.0000 - mean_absolute_error: 3939.4182 - mean_absolute_percentage_error: 99.9699 - val_loss: 99.9235 - val_mean_squared_error: 30934508.0000 - val_mean_absolute_error: 3883.4143 - val_mean_absolute_percentage_error: 99.9235\n",
            "Epoch 2/1000\n",
            "506/506 [==============================] - 1s 2ms/step - loss: 99.8530 - mean_squared_error: 31507140.0000 - mean_absolute_error: 3937.6304 - mean_absolute_percentage_error: 99.8530 - val_loss: 99.7640 - val_mean_squared_error: 30915928.0000 - val_mean_absolute_error: 3881.0188 - val_mean_absolute_percentage_error: 99.7640\n",
            "Epoch 3/1000\n",
            "506/506 [==============================] - 1s 2ms/step - loss: 99.6615 - mean_squared_error: 31484116.0000 - mean_absolute_error: 3934.7058 - mean_absolute_percentage_error: 99.6615 - val_loss: 99.5349 - val_mean_squared_error: 30889246.0000 - val_mean_absolute_error: 3877.5813 - val_mean_absolute_percentage_error: 99.5349\n",
            "Epoch 4/1000\n",
            "506/506 [==============================] - 1s 2ms/step - loss: 99.4069 - mean_squared_error: 31453534.0000 - mean_absolute_error: 3930.8086 - mean_absolute_percentage_error: 99.4069 - val_loss: 99.2464 - val_mean_squared_error: 30855680.0000 - val_mean_absolute_error: 3873.2522 - val_mean_absolute_percentage_error: 99.2464\n",
            "Epoch 5/1000\n",
            "506/506 [==============================] - 1s 2ms/step - loss: 99.0976 - mean_squared_error: 31416144.0000 - mean_absolute_error: 3926.0645 - mean_absolute_percentage_error: 99.0976 - val_loss: 98.9057 - val_mean_squared_error: 30816104.0000 - val_mean_absolute_error: 3868.1353 - val_mean_absolute_percentage_error: 98.9057\n",
            "Epoch 6/1000\n",
            "506/506 [==============================] - 1s 2ms/step - loss: 98.7391 - mean_squared_error: 31373210.0000 - mean_absolute_error: 3920.5894 - mean_absolute_percentage_error: 98.7391 - val_loss: 98.5166 - val_mean_squared_error: 30770956.0000 - val_mean_absolute_error: 3862.2988 - val_mean_absolute_percentage_error: 98.5166\n",
            "Epoch 7/1000\n",
            "506/506 [==============================] - 1s 2ms/step - loss: 98.3348 - mean_squared_error: 31324600.0000 - mean_absolute_error: 3914.4031 - mean_absolute_percentage_error: 98.3348 - val_loss: 98.0825 - val_mean_squared_error: 30720680.0000 - val_mean_absolute_error: 3855.7834 - val_mean_absolute_percentage_error: 98.0825\n",
            "Epoch 8/1000\n",
            "506/506 [==============================] - 1s 2ms/step - loss: 97.8876 - mean_squared_error: 31271212.0000 - mean_absolute_error: 3907.5720 - mean_absolute_percentage_error: 97.8876 - val_loss: 97.6056 - val_mean_squared_error: 30665542.0000 - val_mean_absolute_error: 3848.6272 - val_mean_absolute_percentage_error: 97.6056\n",
            "Epoch 9/1000\n",
            "506/506 [==============================] - 1s 2ms/step - loss: 97.3991 - mean_squared_error: 31213262.0000 - mean_absolute_error: 3900.1213 - mean_absolute_percentage_error: 97.3991 - val_loss: 97.0873 - val_mean_squared_error: 30605732.0000 - val_mean_absolute_error: 3840.8474 - val_mean_absolute_percentage_error: 97.0873\n",
            "Epoch 10/1000\n",
            "506/506 [==============================] - 1s 2ms/step - loss: 96.8711 - mean_squared_error: 31150368.0000 - mean_absolute_error: 3892.0525 - mean_absolute_percentage_error: 96.8711 - val_loss: 96.5301 - val_mean_squared_error: 30541552.0000 - val_mean_absolute_error: 3832.4863 - val_mean_absolute_percentage_error: 96.5301\n",
            "Epoch 11/1000\n",
            "506/506 [==============================] - 1s 2ms/step - loss: 96.3056 - mean_squared_error: 31082834.0000 - mean_absolute_error: 3883.3738 - mean_absolute_percentage_error: 96.3056 - val_loss: 95.9350 - val_mean_squared_error: 30473172.0000 - val_mean_absolute_error: 3823.5547 - val_mean_absolute_percentage_error: 95.9350\n",
            "Epoch 12/1000\n",
            "506/506 [==============================] - 1s 2ms/step - loss: 95.7023 - mean_squared_error: 31011430.0000 - mean_absolute_error: 3874.1653 - mean_absolute_percentage_error: 95.7023 - val_loss: 95.3007 - val_mean_squared_error: 30400466.0000 - val_mean_absolute_error: 3814.0344 - val_mean_absolute_percentage_error: 95.3007\n",
            "Epoch 13/1000\n",
            "506/506 [==============================] - 1s 3ms/step - loss: 95.0618 - mean_squared_error: 30935606.0000 - mean_absolute_error: 3864.3625 - mean_absolute_percentage_error: 95.0618 - val_loss: 94.6292 - val_mean_squared_error: 30323698.0000 - val_mean_absolute_error: 3803.9565 - val_mean_absolute_percentage_error: 94.6292\n",
            "Epoch 14/1000\n",
            "506/506 [==============================] - 1s 3ms/step - loss: 94.3840 - mean_squared_error: 30855672.0000 - mean_absolute_error: 3854.0146 - mean_absolute_percentage_error: 94.3840 - val_loss: 93.9204 - val_mean_squared_error: 30242882.0000 - val_mean_absolute_error: 3793.3191 - val_mean_absolute_percentage_error: 93.9204\n",
            "Epoch 15/1000\n",
            "506/506 [==============================] - 1s 3ms/step - loss: 93.6693 - mean_squared_error: 30771778.0000 - mean_absolute_error: 3843.1042 - mean_absolute_percentage_error: 93.6693 - val_loss: 93.1743 - val_mean_squared_error: 30158058.0000 - val_mean_absolute_error: 3782.1196 - val_mean_absolute_percentage_error: 93.1743\n",
            "Epoch 16/1000\n",
            "506/506 [==============================] - 1s 3ms/step - loss: 92.9184 - mean_squared_error: 30683476.0000 - mean_absolute_error: 3831.6025 - mean_absolute_percentage_error: 92.9184 - val_loss: 92.3905 - val_mean_squared_error: 30069214.0000 - val_mean_absolute_error: 3770.3579 - val_mean_absolute_percentage_error: 92.3905\n",
            "Epoch 17/1000\n",
            "506/506 [==============================] - 1s 3ms/step - loss: 92.1310 - mean_squared_error: 30591760.0000 - mean_absolute_error: 3819.6003 - mean_absolute_percentage_error: 92.1310 - val_loss: 91.5695 - val_mean_squared_error: 29976462.0000 - val_mean_absolute_error: 3758.0376 - val_mean_absolute_percentage_error: 91.5695\n",
            "Epoch 18/1000\n",
            "506/506 [==============================] - 1s 3ms/step - loss: 91.3082 - mean_squared_error: 30495138.0000 - mean_absolute_error: 3806.9700 - mean_absolute_percentage_error: 91.3082 - val_loss: 90.7137 - val_mean_squared_error: 29880084.0000 - val_mean_absolute_error: 3745.1936 - val_mean_absolute_percentage_error: 90.7137\n",
            "Epoch 19/1000\n",
            "506/506 [==============================] - 1s 2ms/step - loss: 90.4494 - mean_squared_error: 30395978.0000 - mean_absolute_error: 3793.8972 - mean_absolute_percentage_error: 90.4494 - val_loss: 89.8200 - val_mean_squared_error: 29779798.0000 - val_mean_absolute_error: 3731.7830 - val_mean_absolute_percentage_error: 89.8200\n",
            "Epoch 20/1000\n",
            "506/506 [==============================] - 1s 2ms/step - loss: 89.5542 - mean_squared_error: 30292134.0000 - mean_absolute_error: 3780.1853 - mean_absolute_percentage_error: 89.5542 - val_loss: 88.8896 - val_mean_squared_error: 29675778.0000 - val_mean_absolute_error: 3717.8162 - val_mean_absolute_percentage_error: 88.8896\n",
            "Epoch 21/1000\n",
            "506/506 [==============================] - 1s 2ms/step - loss: 88.6240 - mean_squared_error: 30184586.0000 - mean_absolute_error: 3765.9580 - mean_absolute_percentage_error: 88.6240 - val_loss: 87.9245 - val_mean_squared_error: 29568280.0000 - val_mean_absolute_error: 3703.3315 - val_mean_absolute_percentage_error: 87.9245\n",
            "Epoch 22/1000\n",
            "506/506 [==============================] - 1s 2ms/step - loss: 87.6578 - mean_squared_error: 30074002.0000 - mean_absolute_error: 3751.2124 - mean_absolute_percentage_error: 87.6578 - val_loss: 86.9219 - val_mean_squared_error: 29457066.0000 - val_mean_absolute_error: 3688.2849 - val_mean_absolute_percentage_error: 86.9219\n",
            "Epoch 23/1000\n",
            "506/506 [==============================] - 1s 2ms/step - loss: 86.6567 - mean_squared_error: 29959048.0000 - mean_absolute_error: 3735.8835 - mean_absolute_percentage_error: 86.6567 - val_loss: 85.8845 - val_mean_squared_error: 29342454.0000 - val_mean_absolute_error: 3672.7134 - val_mean_absolute_percentage_error: 85.8845\n",
            "Epoch 24/1000\n",
            "506/506 [==============================] - 1s 2ms/step - loss: 85.6203 - mean_squared_error: 29840790.0000 - mean_absolute_error: 3720.0273 - mean_absolute_percentage_error: 85.6203 - val_loss: 84.8101 - val_mean_squared_error: 29224288.0000 - val_mean_absolute_error: 3656.5952 - val_mean_absolute_percentage_error: 84.8101\n",
            "Epoch 25/1000\n",
            "506/506 [==============================] - 1s 2ms/step - loss: 84.5491 - mean_squared_error: 29718968.0000 - mean_absolute_error: 3703.6389 - mean_absolute_percentage_error: 84.5491 - val_loss: 83.7009 - val_mean_squared_error: 29102824.0000 - val_mean_absolute_error: 3639.9458 - val_mean_absolute_percentage_error: 83.7009\n",
            "Epoch 26/1000\n",
            "506/506 [==============================] - 1s 2ms/step - loss: 83.4427 - mean_squared_error: 29594056.0000 - mean_absolute_error: 3686.7258 - mean_absolute_percentage_error: 83.4427 - val_loss: 82.5561 - val_mean_squared_error: 28978038.0000 - val_mean_absolute_error: 3622.7671 - val_mean_absolute_percentage_error: 82.5561\n",
            "Epoch 27/1000\n",
            "506/506 [==============================] - 1s 2ms/step - loss: 82.3013 - mean_squared_error: 29465856.0000 - mean_absolute_error: 3669.2729 - mean_absolute_percentage_error: 82.3013 - val_loss: 81.3752 - val_mean_squared_error: 28849940.0000 - val_mean_absolute_error: 3605.0413 - val_mean_absolute_percentage_error: 81.3752\n",
            "Epoch 28/1000\n",
            "506/506 [==============================] - 1s 2ms/step - loss: 81.1242 - mean_squared_error: 29334372.0000 - mean_absolute_error: 3651.2898 - mean_absolute_percentage_error: 81.1242 - val_loss: 80.1586 - val_mean_squared_error: 28718614.0000 - val_mean_absolute_error: 3586.7832 - val_mean_absolute_percentage_error: 80.1586\n",
            "Epoch 29/1000\n",
            "506/506 [==============================] - 1s 2ms/step - loss: 79.9121 - mean_squared_error: 29199278.0000 - mean_absolute_error: 3632.7693 - mean_absolute_percentage_error: 79.9121 - val_loss: 78.9059 - val_mean_squared_error: 28584114.0000 - val_mean_absolute_error: 3567.9829 - val_mean_absolute_percentage_error: 78.9059\n",
            "Epoch 30/1000\n",
            "506/506 [==============================] - 1s 2ms/step - loss: 78.6656 - mean_squared_error: 29060718.0000 - mean_absolute_error: 3613.6685 - mean_absolute_percentage_error: 78.6656 - val_loss: 77.6182 - val_mean_squared_error: 28446582.0000 - val_mean_absolute_error: 3548.6580 - val_mean_absolute_percentage_error: 77.6182\n",
            "Epoch 31/1000\n",
            "506/506 [==============================] - 1s 2ms/step - loss: 77.3860 - mean_squared_error: 28920232.0000 - mean_absolute_error: 3594.1462 - mean_absolute_percentage_error: 77.3860 - val_loss: 76.3007 - val_mean_squared_error: 28306326.0000 - val_mean_absolute_error: 3528.8484 - val_mean_absolute_percentage_error: 76.3007\n",
            "Epoch 32/1000\n",
            "506/506 [==============================] - 1s 2ms/step - loss: 76.0805 - mean_squared_error: 28776424.0000 - mean_absolute_error: 3574.1118 - mean_absolute_percentage_error: 76.0805 - val_loss: 74.9583 - val_mean_squared_error: 28163644.0000 - val_mean_absolute_error: 3508.6057 - val_mean_absolute_percentage_error: 74.9583\n",
            "Epoch 33/1000\n",
            "506/506 [==============================] - 1s 2ms/step - loss: 74.7661 - mean_squared_error: 28630902.0000 - mean_absolute_error: 3553.7488 - mean_absolute_percentage_error: 74.7661 - val_loss: 73.6183 - val_mean_squared_error: 28019484.0000 - val_mean_absolute_error: 3488.1228 - val_mean_absolute_percentage_error: 73.6183\n",
            "Epoch 34/1000\n",
            "506/506 [==============================] - 1s 2ms/step - loss: 73.4535 - mean_squared_error: 28483292.0000 - mean_absolute_error: 3533.1406 - mean_absolute_percentage_error: 73.4535 - val_loss: 72.2932 - val_mean_squared_error: 27874386.0000 - val_mean_absolute_error: 3467.5100 - val_mean_absolute_percentage_error: 72.2932\n",
            "Epoch 35/1000\n",
            "506/506 [==============================] - 1s 2ms/step - loss: 72.1569 - mean_squared_error: 28335276.0000 - mean_absolute_error: 3512.4500 - mean_absolute_percentage_error: 72.1569 - val_loss: 71.0047 - val_mean_squared_error: 27728440.0000 - val_mean_absolute_error: 3446.8711 - val_mean_absolute_percentage_error: 71.0047\n",
            "Epoch 36/1000\n",
            "506/506 [==============================] - 1s 2ms/step - loss: 70.9015 - mean_squared_error: 28187194.0000 - mean_absolute_error: 3491.8003 - mean_absolute_percentage_error: 70.9015 - val_loss: 69.7743 - val_mean_squared_error: 27583174.0000 - val_mean_absolute_error: 3426.4656 - val_mean_absolute_percentage_error: 69.7743\n",
            "Epoch 37/1000\n",
            "506/506 [==============================] - 1s 2ms/step - loss: 69.6987 - mean_squared_error: 28039356.0000 - mean_absolute_error: 3471.3621 - mean_absolute_percentage_error: 69.6987 - val_loss: 68.6033 - val_mean_squared_error: 27437798.0000 - val_mean_absolute_error: 3406.2305 - val_mean_absolute_percentage_error: 68.6033\n",
            "Epoch 38/1000\n",
            "506/506 [==============================] - 1s 3ms/step - loss: 68.5435 - mean_squared_error: 27891952.0000 - mean_absolute_error: 3451.0793 - mean_absolute_percentage_error: 68.5435 - val_loss: 67.4885 - val_mean_squared_error: 27292510.0000 - val_mean_absolute_error: 3386.1819 - val_mean_absolute_percentage_error: 67.4885\n",
            "Epoch 39/1000\n",
            "506/506 [==============================] - 1s 2ms/step - loss: 67.4500 - mean_squared_error: 27745418.0000 - mean_absolute_error: 3431.0962 - mean_absolute_percentage_error: 67.4500 - val_loss: 66.4309 - val_mean_squared_error: 27147080.0000 - val_mean_absolute_error: 3366.3135 - val_mean_absolute_percentage_error: 66.4309\n",
            "Epoch 40/1000\n",
            "506/506 [==============================] - 1s 2ms/step - loss: 66.4169 - mean_squared_error: 27598040.0000 - mean_absolute_error: 3411.1794 - mean_absolute_percentage_error: 66.4169 - val_loss: 65.4428 - val_mean_squared_error: 27003146.0000 - val_mean_absolute_error: 3346.8667 - val_mean_absolute_percentage_error: 65.4428\n",
            "Epoch 41/1000\n",
            "506/506 [==============================] - 1s 2ms/step - loss: 65.4687 - mean_squared_error: 27452196.0000 - mean_absolute_error: 3391.9167 - mean_absolute_percentage_error: 65.4687 - val_loss: 64.5458 - val_mean_squared_error: 26860684.0000 - val_mean_absolute_error: 3327.9724 - val_mean_absolute_percentage_error: 64.5458\n",
            "Epoch 42/1000\n",
            "506/506 [==============================] - 1s 2ms/step - loss: 64.6044 - mean_squared_error: 27308116.0000 - mean_absolute_error: 3373.1172 - mean_absolute_percentage_error: 64.6044 - val_loss: 63.7404 - val_mean_squared_error: 26720694.0000 - val_mean_absolute_error: 3309.7471 - val_mean_absolute_percentage_error: 63.7404\n",
            "Epoch 43/1000\n",
            "506/506 [==============================] - 1s 2ms/step - loss: 63.8180 - mean_squared_error: 27166652.0000 - mean_absolute_error: 3354.9272 - mean_absolute_percentage_error: 63.8180 - val_loss: 63.0149 - val_mean_squared_error: 26581930.0000 - val_mean_absolute_error: 3292.0264 - val_mean_absolute_percentage_error: 63.0149\n",
            "Epoch 44/1000\n",
            "506/506 [==============================] - 1s 2ms/step - loss: 63.1187 - mean_squared_error: 27026246.0000 - mean_absolute_error: 3337.3037 - mean_absolute_percentage_error: 63.1187 - val_loss: 62.3859 - val_mean_squared_error: 26445778.0000 - val_mean_absolute_error: 3275.0576 - val_mean_absolute_percentage_error: 62.3859\n",
            "Epoch 45/1000\n",
            "506/506 [==============================] - 1s 2ms/step - loss: 62.4963 - mean_squared_error: 26888312.0000 - mean_absolute_error: 3320.3254 - mean_absolute_percentage_error: 62.4963 - val_loss: 61.8364 - val_mean_squared_error: 26312110.0000 - val_mean_absolute_error: 3258.7466 - val_mean_absolute_percentage_error: 61.8364\n",
            "Epoch 46/1000\n",
            "506/506 [==============================] - 1s 2ms/step - loss: 61.9422 - mean_squared_error: 26755302.0000 - mean_absolute_error: 3304.1111 - mean_absolute_percentage_error: 61.9422 - val_loss: 61.3552 - val_mean_squared_error: 26180076.0000 - val_mean_absolute_error: 3242.9561 - val_mean_absolute_percentage_error: 61.3552\n",
            "Epoch 47/1000\n",
            "506/506 [==============================] - 1s 2ms/step - loss: 61.4602 - mean_squared_error: 26622026.0000 - mean_absolute_error: 3288.3325 - mean_absolute_percentage_error: 61.4602 - val_loss: 60.9660 - val_mean_squared_error: 26053938.0000 - val_mean_absolute_error: 3228.2659 - val_mean_absolute_percentage_error: 60.9660\n",
            "Epoch 48/1000\n",
            "506/506 [==============================] - 1s 2ms/step - loss: 61.0637 - mean_squared_error: 26497324.0000 - mean_absolute_error: 3273.8040 - mean_absolute_percentage_error: 61.0637 - val_loss: 60.6478 - val_mean_squared_error: 25933226.0000 - val_mean_absolute_error: 3214.5156 - val_mean_absolute_percentage_error: 60.6478\n",
            "Epoch 49/1000\n",
            "506/506 [==============================] - 1s 2ms/step - loss: 60.7474 - mean_squared_error: 26381204.0000 - mean_absolute_error: 3260.6299 - mean_absolute_percentage_error: 60.7474 - val_loss: 60.4044 - val_mean_squared_error: 25821186.0000 - val_mean_absolute_error: 3202.0579 - val_mean_absolute_percentage_error: 60.4044\n",
            "Epoch 50/1000\n",
            "506/506 [==============================] - 1s 2ms/step - loss: 60.4942 - mean_squared_error: 26268162.0000 - mean_absolute_error: 3248.1316 - mean_absolute_percentage_error: 60.4942 - val_loss: 60.2176 - val_mean_squared_error: 25715090.0000 - val_mean_absolute_error: 3190.5237 - val_mean_absolute_percentage_error: 60.2176\n",
            "Epoch 51/1000\n",
            "506/506 [==============================] - 1s 2ms/step - loss: 60.2996 - mean_squared_error: 26162378.0000 - mean_absolute_error: 3236.6873 - mean_absolute_percentage_error: 60.2996 - val_loss: 60.0766 - val_mean_squared_error: 25619108.0000 - val_mean_absolute_error: 3180.2502 - val_mean_absolute_percentage_error: 60.0766\n",
            "Epoch 52/1000\n",
            "506/506 [==============================] - 1s 2ms/step - loss: 60.1519 - mean_squared_error: 26070738.0000 - mean_absolute_error: 3226.8882 - mean_absolute_percentage_error: 60.1519 - val_loss: 59.9663 - val_mean_squared_error: 25529714.0000 - val_mean_absolute_error: 3170.8003 - val_mean_absolute_percentage_error: 59.9663\n",
            "Epoch 53/1000\n",
            "506/506 [==============================] - 1s 2ms/step - loss: 60.0465 - mean_squared_error: 25986410.0000 - mean_absolute_error: 3218.0481 - mean_absolute_percentage_error: 60.0465 - val_loss: 59.8946 - val_mean_squared_error: 25452172.0000 - val_mean_absolute_error: 3162.7566 - val_mean_absolute_percentage_error: 59.8946\n",
            "Epoch 54/1000\n",
            "506/506 [==============================] - 1s 3ms/step - loss: 59.9751 - mean_squared_error: 25912480.0000 - mean_absolute_error: 3210.4771 - mean_absolute_percentage_error: 59.9751 - val_loss: 59.8476 - val_mean_squared_error: 25387566.0000 - val_mean_absolute_error: 3156.1306 - val_mean_absolute_percentage_error: 59.8476\n",
            "Epoch 55/1000\n",
            "506/506 [==============================] - 1s 2ms/step - loss: 59.9283 - mean_squared_error: 25849036.0000 - mean_absolute_error: 3204.0542 - mean_absolute_percentage_error: 59.9283 - val_loss: 59.8177 - val_mean_squared_error: 25334514.0000 - val_mean_absolute_error: 3150.7454 - val_mean_absolute_percentage_error: 59.8177\n",
            "Epoch 56/1000\n",
            "506/506 [==============================] - 1s 2ms/step - loss: 59.9009 - mean_squared_error: 25802142.0000 - mean_absolute_error: 3199.3555 - mean_absolute_percentage_error: 59.9009 - val_loss: 59.8010 - val_mean_squared_error: 25293080.0000 - val_mean_absolute_error: 3146.5823 - val_mean_absolute_percentage_error: 59.8010\n",
            "Epoch 57/1000\n",
            "506/506 [==============================] - 1s 2ms/step - loss: 59.8830 - mean_squared_error: 25767420.0000 - mean_absolute_error: 3195.8840 - mean_absolute_percentage_error: 59.8830 - val_loss: 59.7906 - val_mean_squared_error: 25257160.0000 - val_mean_absolute_error: 3142.9976 - val_mean_absolute_percentage_error: 59.7906\n",
            "Epoch 58/1000\n",
            "506/506 [==============================] - 1s 2ms/step - loss: 59.8733 - mean_squared_error: 25735824.0000 - mean_absolute_error: 3192.7744 - mean_absolute_percentage_error: 59.8733 - val_loss: 59.7843 - val_mean_squared_error: 25229412.0000 - val_mean_absolute_error: 3140.2388 - val_mean_absolute_percentage_error: 59.7843\n",
            "Epoch 59/1000\n",
            "506/506 [==============================] - 1s 2ms/step - loss: 59.8661 - mean_squared_error: 25706200.0000 - mean_absolute_error: 3189.8716 - mean_absolute_percentage_error: 59.8661 - val_loss: 59.7796 - val_mean_squared_error: 25205316.0000 - val_mean_absolute_error: 3137.8469 - val_mean_absolute_percentage_error: 59.7796\n",
            "Epoch 60/1000\n",
            "506/506 [==============================] - 1s 2ms/step - loss: 59.8614 - mean_squared_error: 25688286.0000 - mean_absolute_error: 3188.1123 - mean_absolute_percentage_error: 59.8614 - val_loss: 59.7783 - val_mean_squared_error: 25191940.0000 - val_mean_absolute_error: 3136.5288 - val_mean_absolute_percentage_error: 59.7783\n",
            "Epoch 61/1000\n",
            "506/506 [==============================] - 1s 2ms/step - loss: 59.8604 - mean_squared_error: 25675788.0000 - mean_absolute_error: 3186.9011 - mean_absolute_percentage_error: 59.8604 - val_loss: 59.7783 - val_mean_squared_error: 25183052.0000 - val_mean_absolute_error: 3135.6580 - val_mean_absolute_percentage_error: 59.7783\n",
            "Epoch 62/1000\n",
            "506/506 [==============================] - 1s 2ms/step - loss: 59.8599 - mean_squared_error: 25670630.0000 - mean_absolute_error: 3186.4021 - mean_absolute_percentage_error: 59.8599 - val_loss: 59.7785 - val_mean_squared_error: 25178620.0000 - val_mean_absolute_error: 3135.2271 - val_mean_absolute_percentage_error: 59.7785\n",
            "Epoch 63/1000\n",
            "506/506 [==============================] - 2s 4ms/step - loss: 59.8597 - mean_squared_error: 25662724.0000 - mean_absolute_error: 3185.6350 - mean_absolute_percentage_error: 59.8597 - val_loss: 59.7787 - val_mean_squared_error: 25173606.0000 - val_mean_absolute_error: 3134.7363 - val_mean_absolute_percentage_error: 59.7787\n",
            "Epoch 64/1000\n",
            "506/506 [==============================] - 1s 2ms/step - loss: 59.8593 - mean_squared_error: 25659928.0000 - mean_absolute_error: 3185.3628 - mean_absolute_percentage_error: 59.8593 - val_loss: 59.7789 - val_mean_squared_error: 25167490.0000 - val_mean_absolute_error: 3134.1404 - val_mean_absolute_percentage_error: 59.7789\n",
            "Epoch 65/1000\n",
            "506/506 [==============================] - 1s 2ms/step - loss: 59.8592 - mean_squared_error: 25653236.0000 - mean_absolute_error: 3184.7168 - mean_absolute_percentage_error: 59.8592 - val_loss: 59.7791 - val_mean_squared_error: 25164710.0000 - val_mean_absolute_error: 3133.8687 - val_mean_absolute_percentage_error: 59.7791\n",
            "Epoch 66/1000\n",
            "506/506 [==============================] - 1s 2ms/step - loss: 59.8592 - mean_squared_error: 25649120.0000 - mean_absolute_error: 3184.3228 - mean_absolute_percentage_error: 59.8592 - val_loss: 59.7793 - val_mean_squared_error: 25161980.0000 - val_mean_absolute_error: 3133.6033 - val_mean_absolute_percentage_error: 59.7793\n",
            "Epoch 67/1000\n",
            "506/506 [==============================] - 1s 2ms/step - loss: 59.8590 - mean_squared_error: 25646454.0000 - mean_absolute_error: 3184.0632 - mean_absolute_percentage_error: 59.8590 - val_loss: 59.7794 - val_mean_squared_error: 25159486.0000 - val_mean_absolute_error: 3133.3601 - val_mean_absolute_percentage_error: 59.7794\n",
            "Epoch 68/1000\n",
            "506/506 [==============================] - 1s 3ms/step - loss: 59.8590 - mean_squared_error: 25647830.0000 - mean_absolute_error: 3184.1953 - mean_absolute_percentage_error: 59.8590 - val_loss: 59.7794 - val_mean_squared_error: 25159476.0000 - val_mean_absolute_error: 3133.3599 - val_mean_absolute_percentage_error: 59.7794\n",
            "Epoch 69/1000\n",
            "506/506 [==============================] - 1s 2ms/step - loss: 59.8591 - mean_squared_error: 25645486.0000 - mean_absolute_error: 3183.9709 - mean_absolute_percentage_error: 59.8591 - val_loss: 59.7796 - val_mean_squared_error: 25156982.0000 - val_mean_absolute_error: 3133.1169 - val_mean_absolute_percentage_error: 59.7796\n",
            "Epoch 70/1000\n",
            "506/506 [==============================] - 1s 2ms/step - loss: 59.8590 - mean_squared_error: 25643316.0000 - mean_absolute_error: 3183.7610 - mean_absolute_percentage_error: 59.8590 - val_loss: 59.7797 - val_mean_squared_error: 25155902.0000 - val_mean_absolute_error: 3133.0115 - val_mean_absolute_percentage_error: 59.7797\n",
            "Epoch 71/1000\n",
            "506/506 [==============================] - 1s 2ms/step - loss: 59.8590 - mean_squared_error: 25644540.0000 - mean_absolute_error: 3183.8794 - mean_absolute_percentage_error: 59.8590 - val_loss: 59.7799 - val_mean_squared_error: 25154220.0000 - val_mean_absolute_error: 3132.8481 - val_mean_absolute_percentage_error: 59.7799\n",
            "Epoch 72/1000\n",
            "506/506 [==============================] - 1s 2ms/step - loss: 59.8590 - mean_squared_error: 25643896.0000 - mean_absolute_error: 3183.8181 - mean_absolute_percentage_error: 59.8590 - val_loss: 59.7799 - val_mean_squared_error: 25153618.0000 - val_mean_absolute_error: 3132.7896 - val_mean_absolute_percentage_error: 59.7799\n",
            "Epoch 73/1000\n",
            "506/506 [==============================] - 1s 3ms/step - loss: 59.8590 - mean_squared_error: 25639090.0000 - mean_absolute_error: 3183.3557 - mean_absolute_percentage_error: 59.8590 - val_loss: 59.7801 - val_mean_squared_error: 25151080.0000 - val_mean_absolute_error: 3132.5425 - val_mean_absolute_percentage_error: 59.7801\n",
            "Epoch 74/1000\n",
            "506/506 [==============================] - 1s 2ms/step - loss: 59.8589 - mean_squared_error: 25637718.0000 - mean_absolute_error: 3183.2192 - mean_absolute_percentage_error: 59.8589 - val_loss: 59.7801 - val_mean_squared_error: 25151546.0000 - val_mean_absolute_error: 3132.5884 - val_mean_absolute_percentage_error: 59.7801\n",
            "Epoch 75/1000\n",
            "506/506 [==============================] - 1s 2ms/step - loss: 59.8590 - mean_squared_error: 25643750.0000 - mean_absolute_error: 3183.8020 - mean_absolute_percentage_error: 59.8590 - val_loss: 59.7801 - val_mean_squared_error: 25151152.0000 - val_mean_absolute_error: 3132.5510 - val_mean_absolute_percentage_error: 59.7801\n",
            "Epoch 76/1000\n",
            "506/506 [==============================] - 1s 2ms/step - loss: 59.8589 - mean_squared_error: 25639208.0000 - mean_absolute_error: 3183.3633 - mean_absolute_percentage_error: 59.8589 - val_loss: 59.7802 - val_mean_squared_error: 25149912.0000 - val_mean_absolute_error: 3132.4292 - val_mean_absolute_percentage_error: 59.7802\n",
            "Epoch 77/1000\n",
            "506/506 [==============================] - 1s 2ms/step - loss: 59.8588 - mean_squared_error: 25642364.0000 - mean_absolute_error: 3183.6672 - mean_absolute_percentage_error: 59.8588 - val_loss: 59.7803 - val_mean_squared_error: 25149286.0000 - val_mean_absolute_error: 3132.3682 - val_mean_absolute_percentage_error: 59.7803\n",
            "Epoch 78/1000\n",
            "506/506 [==============================] - 1s 3ms/step - loss: 59.8589 - mean_squared_error: 25638710.0000 - mean_absolute_error: 3183.3167 - mean_absolute_percentage_error: 59.8589 - val_loss: 59.7803 - val_mean_squared_error: 25149054.0000 - val_mean_absolute_error: 3132.3459 - val_mean_absolute_percentage_error: 59.7803\n",
            "Epoch 79/1000\n",
            "506/506 [==============================] - 1s 3ms/step - loss: 59.8590 - mean_squared_error: 25637518.0000 - mean_absolute_error: 3183.2014 - mean_absolute_percentage_error: 59.8590 - val_loss: 59.7803 - val_mean_squared_error: 25149256.0000 - val_mean_absolute_error: 3132.3643 - val_mean_absolute_percentage_error: 59.7803\n",
            "Epoch 80/1000\n",
            "506/506 [==============================] - 1s 2ms/step - loss: 59.8589 - mean_squared_error: 25636862.0000 - mean_absolute_error: 3183.1392 - mean_absolute_percentage_error: 59.8589 - val_loss: 59.7805 - val_mean_squared_error: 25147300.0000 - val_mean_absolute_error: 3132.1738 - val_mean_absolute_percentage_error: 59.7805\n",
            "Epoch 81/1000\n",
            "506/506 [==============================] - 1s 2ms/step - loss: 59.8588 - mean_squared_error: 25638974.0000 - mean_absolute_error: 3183.3411 - mean_absolute_percentage_error: 59.8588 - val_loss: 59.7804 - val_mean_squared_error: 25148376.0000 - val_mean_absolute_error: 3132.2788 - val_mean_absolute_percentage_error: 59.7804\n",
            "Epoch 82/1000\n",
            "506/506 [==============================] - 1s 2ms/step - loss: 59.8589 - mean_squared_error: 25632746.0000 - mean_absolute_error: 3182.7424 - mean_absolute_percentage_error: 59.8589 - val_loss: 59.7806 - val_mean_squared_error: 25146180.0000 - val_mean_absolute_error: 3132.0659 - val_mean_absolute_percentage_error: 59.7806\n",
            "Epoch 83/1000\n",
            "506/506 [==============================] - 1s 2ms/step - loss: 59.8589 - mean_squared_error: 25640150.0000 - mean_absolute_error: 3183.4585 - mean_absolute_percentage_error: 59.8589 - val_loss: 59.7805 - val_mean_squared_error: 25146870.0000 - val_mean_absolute_error: 3132.1338 - val_mean_absolute_percentage_error: 59.7805\n",
            "Epoch 84/1000\n",
            "506/506 [==============================] - 1s 2ms/step - loss: 59.8588 - mean_squared_error: 25634674.0000 - mean_absolute_error: 3182.9282 - mean_absolute_percentage_error: 59.8588 - val_loss: 59.7806 - val_mean_squared_error: 25145596.0000 - val_mean_absolute_error: 3132.0083 - val_mean_absolute_percentage_error: 59.7806\n",
            "Epoch 85/1000\n",
            "506/506 [==============================] - 1s 2ms/step - loss: 59.8589 - mean_squared_error: 25635138.0000 - mean_absolute_error: 3182.9712 - mean_absolute_percentage_error: 59.8589 - val_loss: 59.7805 - val_mean_squared_error: 25147518.0000 - val_mean_absolute_error: 3132.1960 - val_mean_absolute_percentage_error: 59.7805\n",
            "Epoch 86/1000\n",
            "506/506 [==============================] - 1s 3ms/step - loss: 59.8590 - mean_squared_error: 25637602.0000 - mean_absolute_error: 3183.2080 - mean_absolute_percentage_error: 59.8590 - val_loss: 59.7806 - val_mean_squared_error: 25145654.0000 - val_mean_absolute_error: 3132.0144 - val_mean_absolute_percentage_error: 59.7806\n",
            "Epoch 87/1000\n",
            "506/506 [==============================] - 1s 2ms/step - loss: 59.8588 - mean_squared_error: 25629968.0000 - mean_absolute_error: 3182.4744 - mean_absolute_percentage_error: 59.8588 - val_loss: 59.7806 - val_mean_squared_error: 25145618.0000 - val_mean_absolute_error: 3132.0107 - val_mean_absolute_percentage_error: 59.7806\n",
            "Epoch 88/1000\n",
            "506/506 [==============================] - 1s 3ms/step - loss: 59.8588 - mean_squared_error: 25632272.0000 - mean_absolute_error: 3182.6985 - mean_absolute_percentage_error: 59.8588 - val_loss: 59.7805 - val_mean_squared_error: 25147164.0000 - val_mean_absolute_error: 3132.1611 - val_mean_absolute_percentage_error: 59.7805\n",
            "Epoch 89/1000\n",
            "506/506 [==============================] - 1s 2ms/step - loss: 59.8588 - mean_squared_error: 25633888.0000 - mean_absolute_error: 3182.8528 - mean_absolute_percentage_error: 59.8588 - val_loss: 59.7806 - val_mean_squared_error: 25145808.0000 - val_mean_absolute_error: 3132.0273 - val_mean_absolute_percentage_error: 59.7806\n",
            "Epoch 90/1000\n",
            "506/506 [==============================] - 1s 2ms/step - loss: 59.8590 - mean_squared_error: 25630330.0000 - mean_absolute_error: 3182.5090 - mean_absolute_percentage_error: 59.8590 - val_loss: 59.7806 - val_mean_squared_error: 25145676.0000 - val_mean_absolute_error: 3132.0159 - val_mean_absolute_percentage_error: 59.7806\n",
            "Epoch 91/1000\n",
            "506/506 [==============================] - 1s 2ms/step - loss: 59.8588 - mean_squared_error: 25637468.0000 - mean_absolute_error: 3183.1956 - mean_absolute_percentage_error: 59.8588 - val_loss: 59.7806 - val_mean_squared_error: 25145958.0000 - val_mean_absolute_error: 3132.0442 - val_mean_absolute_percentage_error: 59.7806\n",
            "Epoch 92/1000\n",
            "506/506 [==============================] - 1s 3ms/step - loss: 59.8588 - mean_squared_error: 25634656.0000 - mean_absolute_error: 3182.9255 - mean_absolute_percentage_error: 59.8588 - val_loss: 59.7807 - val_mean_squared_error: 25145008.0000 - val_mean_absolute_error: 3131.9514 - val_mean_absolute_percentage_error: 59.7807\n",
            "Epoch 93/1000\n",
            "506/506 [==============================] - 1s 2ms/step - loss: 59.8589 - mean_squared_error: 25632988.0000 - mean_absolute_error: 3182.7634 - mean_absolute_percentage_error: 59.8589 - val_loss: 59.7808 - val_mean_squared_error: 25144028.0000 - val_mean_absolute_error: 3131.8555 - val_mean_absolute_percentage_error: 59.7808\n",
            "Epoch 94/1000\n",
            "506/506 [==============================] - 1s 2ms/step - loss: 59.8590 - mean_squared_error: 25632158.0000 - mean_absolute_error: 3182.6860 - mean_absolute_percentage_error: 59.8590 - val_loss: 59.7808 - val_mean_squared_error: 25143450.0000 - val_mean_absolute_error: 3131.8010 - val_mean_absolute_percentage_error: 59.7808\n",
            "Epoch 95/1000\n",
            "506/506 [==============================] - 1s 2ms/step - loss: 59.8589 - mean_squared_error: 25631608.0000 - mean_absolute_error: 3182.6323 - mean_absolute_percentage_error: 59.8589 - val_loss: 59.7808 - val_mean_squared_error: 25143860.0000 - val_mean_absolute_error: 3131.8403 - val_mean_absolute_percentage_error: 59.7808\n",
            "Epoch 96/1000\n",
            "506/506 [==============================] - 1s 2ms/step - loss: 59.8588 - mean_squared_error: 25633684.0000 - mean_absolute_error: 3182.8333 - mean_absolute_percentage_error: 59.8588 - val_loss: 59.7808 - val_mean_squared_error: 25144432.0000 - val_mean_absolute_error: 3131.8953 - val_mean_absolute_percentage_error: 59.7808\n",
            "Epoch 97/1000\n",
            "506/506 [==============================] - 1s 2ms/step - loss: 59.8588 - mean_squared_error: 25631592.0000 - mean_absolute_error: 3182.6313 - mean_absolute_percentage_error: 59.8588 - val_loss: 59.7808 - val_mean_squared_error: 25143826.0000 - val_mean_absolute_error: 3131.8364 - val_mean_absolute_percentage_error: 59.7808\n",
            "Epoch 98/1000\n",
            "506/506 [==============================] - 1s 2ms/step - loss: 59.8588 - mean_squared_error: 25630456.0000 - mean_absolute_error: 3182.5225 - mean_absolute_percentage_error: 59.8588 - val_loss: 59.7807 - val_mean_squared_error: 25144812.0000 - val_mean_absolute_error: 3131.9341 - val_mean_absolute_percentage_error: 59.7807\n",
            "Epoch 99/1000\n",
            "506/506 [==============================] - 1s 2ms/step - loss: 59.8589 - mean_squared_error: 25630672.0000 - mean_absolute_error: 3182.5413 - mean_absolute_percentage_error: 59.8589 - val_loss: 59.7807 - val_mean_squared_error: 25145320.0000 - val_mean_absolute_error: 3131.9829 - val_mean_absolute_percentage_error: 59.7807\n",
            "Epoch 100/1000\n",
            "506/506 [==============================] - 1s 2ms/step - loss: 59.8589 - mean_squared_error: 25629910.0000 - mean_absolute_error: 3182.4697 - mean_absolute_percentage_error: 59.8589 - val_loss: 59.7808 - val_mean_squared_error: 25144280.0000 - val_mean_absolute_error: 3131.8801 - val_mean_absolute_percentage_error: 59.7808\n",
            "Epoch 101/1000\n",
            "506/506 [==============================] - 1s 2ms/step - loss: 59.8588 - mean_squared_error: 25631026.0000 - mean_absolute_error: 3182.5754 - mean_absolute_percentage_error: 59.8588 - val_loss: 59.7806 - val_mean_squared_error: 25145654.0000 - val_mean_absolute_error: 3132.0144 - val_mean_absolute_percentage_error: 59.7806\n",
            "Epoch 102/1000\n",
            "506/506 [==============================] - 1s 3ms/step - loss: 59.8589 - mean_squared_error: 25633704.0000 - mean_absolute_error: 3182.8325 - mean_absolute_percentage_error: 59.8589 - val_loss: 59.7806 - val_mean_squared_error: 25145402.0000 - val_mean_absolute_error: 3131.9893 - val_mean_absolute_percentage_error: 59.7806\n",
            "Epoch 103/1000\n",
            "506/506 [==============================] - 1s 2ms/step - loss: 59.8589 - mean_squared_error: 25633140.0000 - mean_absolute_error: 3182.7773 - mean_absolute_percentage_error: 59.8589 - val_loss: 59.7806 - val_mean_squared_error: 25145358.0000 - val_mean_absolute_error: 3131.9866 - val_mean_absolute_percentage_error: 59.7806\n",
            "Epoch 104/1000\n",
            "506/506 [==============================] - 1s 2ms/step - loss: 59.8589 - mean_squared_error: 25635676.0000 - mean_absolute_error: 3183.0269 - mean_absolute_percentage_error: 59.8589 - val_loss: 59.7808 - val_mean_squared_error: 25144344.0000 - val_mean_absolute_error: 3131.8857 - val_mean_absolute_percentage_error: 59.7808\n",
            "Epoch 105/1000\n",
            "506/506 [==============================] - 1s 3ms/step - loss: 59.8588 - mean_squared_error: 25637460.0000 - mean_absolute_error: 3183.1970 - mean_absolute_percentage_error: 59.8588 - val_loss: 59.7807 - val_mean_squared_error: 25144928.0000 - val_mean_absolute_error: 3131.9424 - val_mean_absolute_percentage_error: 59.7807\n",
            "Epoch 106/1000\n",
            "506/506 [==============================] - 1s 2ms/step - loss: 59.8589 - mean_squared_error: 25632920.0000 - mean_absolute_error: 3182.7620 - mean_absolute_percentage_error: 59.8589 - val_loss: 59.7808 - val_mean_squared_error: 25143796.0000 - val_mean_absolute_error: 3131.8333 - val_mean_absolute_percentage_error: 59.7808\n",
            "Epoch 107/1000\n",
            "506/506 [==============================] - 1s 2ms/step - loss: 59.8589 - mean_squared_error: 25634972.0000 - mean_absolute_error: 3182.9570 - mean_absolute_percentage_error: 59.8589 - val_loss: 59.7809 - val_mean_squared_error: 25143192.0000 - val_mean_absolute_error: 3131.7744 - val_mean_absolute_percentage_error: 59.7809\n",
            "Epoch 108/1000\n",
            "506/506 [==============================] - 1s 2ms/step - loss: 59.8589 - mean_squared_error: 25635502.0000 - mean_absolute_error: 3183.0076 - mean_absolute_percentage_error: 59.8589 - val_loss: 59.7807 - val_mean_squared_error: 25145302.0000 - val_mean_absolute_error: 3131.9812 - val_mean_absolute_percentage_error: 59.7807\n",
            "Epoch 109/1000\n",
            "506/506 [==============================] - 1s 2ms/step - loss: 59.8588 - mean_squared_error: 25632536.0000 - mean_absolute_error: 3182.7222 - mean_absolute_percentage_error: 59.8588 - val_loss: 59.7809 - val_mean_squared_error: 25143262.0000 - val_mean_absolute_error: 3131.7810 - val_mean_absolute_percentage_error: 59.7809\n",
            "422/422 [==============================] - 0s 1ms/step - loss: 59.8758 - mean_squared_error: 25404962.0000 - mean_absolute_error: 3186.8384 - mean_absolute_percentage_error: 59.8758\n",
            "[59.87583541870117, 25404962.0, 3186.83837890625, 59.87583541870117]\n"
          ]
        },
        {
          "data": {
            "image/png": "[encoded data removed]",
            "text/plain": [
              "<Figure size 432x288 with 1 Axes>"
            ]
          },
          "metadata": {
            "needs_background": "light"
          },
          "output_type": "display_data"
        }
      ],
      "source": [
        "#Taper Deep Model\n",
        "normalizer = tf.keras.layers.Normalization(axis=-1)\n",
        "normalizer.adapt(np.array(X_tr_ex))\n",
        "\n",
        "mod_ex = keras.Sequential()\n",
        "mod_ex.add(normalizer)\n",
        "mod_ex.add(InputLayer(input_shape=(start_width,)))\n",
        "mod_ex.add(Dense(start_width, activation='relu'))\n",
        "mod_ex.add(Dense(start_width, activation='relu'))\n",
        "mod_ex.add(Dense(start_width, activation='relu'))\n",
        "mod_ex.add(Dense(start_width/2, activation='relu'))\n",
        "mod_ex.add(Dense(start_width/2, activation='relu'))\n",
        "mod_ex.add(Dense(start_width/2, activation='relu'))\n",
        "mod_ex.add(Dense(start_width/2, activation='relu'))\n",
        "mod_ex.add(Dense(start_width/2, activation='relu'))\n",
        "mod_ex.add(Dense(start_width/3, activation='relu'))\n",
        "mod_ex.add(Dense(start_width/3, activation='relu'))\n",
        "mod_ex.add(Dense(start_width/3, activation='relu'))\n",
        "mod_ex.add(Dense(start_width/3, activation='relu'))\n",
        "mod_ex.add(Dense(start_width/4, activation='relu'))\n",
        "mod_ex.add(Dense(start_width/4, activation='relu'))\n",
        "mod_ex.add(Dense(start_width/4, activation='relu'))\n",
        "mod_ex.add(Dense(1))\n",
        "\n",
        "mod_ex.compile(optimizer='adam', loss=\"mean_absolute_percentage_error\", metrics=[metrics.mean_squared_error, \n",
        "                                                                        metrics.mean_absolute_error, \n",
        "                                                                        metrics.mean_absolute_percentage_error])\n",
        "\n",
        "callback = tf.keras.callbacks.EarlyStopping(monitor='loss', patience=20, restore_best_weights=True) \n",
        "\n",
        "hist_ex = mod_ex.fit(\n",
        "  X_tr_ex,\n",
        "  y_tr_ex,\n",
        "  epochs=1000,\n",
        "  batch_size=64,\n",
        "  validation_split=0.2,\n",
        "  callbacks=[callback],\n",
        "  verbose=1\n",
        ")\n",
        "print(mod_ex.evaluate(X_te_ex, y_te_ex))\n",
        "plot_loss(hist_ex)"
      ]
    }
  ],
  "metadata": {
    "accelerator": "GPU",
    "colab": {
      "name": "keras_optimizations_sol.ipynb",
      "provenance": []
    },
    "kernelspec": {
      "display_name": "Python 3.9.7 ('ml3950')",
      "language": "python",
      "name": "python3"
    },
    "language_info": {
      "codemirror_mode": {
        "name": "ipython",
        "version": 3
      },
      "file_extension": ".py",
      "mimetype": "text/x-python",
      "name": "python",
      "nbconvert_exporter": "python",
      "pygments_lexer": "ipython3",
      "version": "3.9.12"
    },
    "orig_nbformat": 4,
    "vscode": {
      "interpreter": {
        "hash": "4d722d3adfa415172c1f5238b519fb86b488acdae450fd691ab06c09f4ca9173"
      }
    }
  },
  "nbformat": 4,
  "nbformat_minor": 0
}
