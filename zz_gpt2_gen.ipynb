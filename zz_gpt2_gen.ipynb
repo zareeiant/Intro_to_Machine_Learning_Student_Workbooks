{
 "cells": [
  {
   "cell_type": "code",
   "execution_count": 1,
   "metadata": {},
   "outputs": [
    {
     "name": "stdout",
     "output_type": "stream",
     "text": [
      "Requirement already satisfied: gpt-2-simple in /Users/akeems/opt/anaconda3/envs/ml3950/lib/python3.9/site-packages (0.8.1)\n",
      "Requirement already satisfied: toposort in /Users/akeems/opt/anaconda3/envs/ml3950/lib/python3.9/site-packages (from gpt-2-simple) (1.10)\n",
      "Requirement already satisfied: numpy in /Users/akeems/opt/anaconda3/envs/ml3950/lib/python3.9/site-packages (from gpt-2-simple) (1.21.5)\n",
      "Requirement already satisfied: tqdm in /Users/akeems/opt/anaconda3/envs/ml3950/lib/python3.9/site-packages (from gpt-2-simple) (4.62.3)\n",
      "Requirement already satisfied: requests in /Users/akeems/opt/anaconda3/envs/ml3950/lib/python3.9/site-packages (from gpt-2-simple) (2.26.0)\n",
      "Requirement already satisfied: tensorflow>=2.5.1 in /Users/akeems/opt/anaconda3/envs/ml3950/lib/python3.9/site-packages (from gpt-2-simple) (2.11.0)\n",
      "Requirement already satisfied: regex in /Users/akeems/opt/anaconda3/envs/ml3950/lib/python3.9/site-packages (from gpt-2-simple) (2021.8.3)\n",
      "Requirement already satisfied: keras<2.12,>=2.11.0 in /Users/akeems/opt/anaconda3/envs/ml3950/lib/python3.9/site-packages (from tensorflow>=2.5.1->gpt-2-simple) (2.11.0)\n",
      "Requirement already satisfied: opt-einsum>=2.3.2 in /Users/akeems/opt/anaconda3/envs/ml3950/lib/python3.9/site-packages (from tensorflow>=2.5.1->gpt-2-simple) (3.3.0)\n",
      "Requirement already satisfied: h5py>=2.9.0 in /Users/akeems/opt/anaconda3/envs/ml3950/lib/python3.9/site-packages (from tensorflow>=2.5.1->gpt-2-simple) (3.2.1)\n",
      "Requirement already satisfied: packaging in /Users/akeems/opt/anaconda3/envs/ml3950/lib/python3.9/site-packages (from tensorflow>=2.5.1->gpt-2-simple) (21.0)\n",
      "Requirement already satisfied: tensorflow-io-gcs-filesystem>=0.23.1 in /Users/akeems/opt/anaconda3/envs/ml3950/lib/python3.9/site-packages (from tensorflow>=2.5.1->gpt-2-simple) (0.24.0)\n",
      "Requirement already satisfied: absl-py>=1.0.0 in /Users/akeems/opt/anaconda3/envs/ml3950/lib/python3.9/site-packages (from tensorflow>=2.5.1->gpt-2-simple) (1.0.0)\n",
      "Requirement already satisfied: grpcio<2.0,>=1.24.3 in /Users/akeems/opt/anaconda3/envs/ml3950/lib/python3.9/site-packages (from tensorflow>=2.5.1->gpt-2-simple) (1.44.0)\n",
      "Requirement already satisfied: google-pasta>=0.1.1 in /Users/akeems/opt/anaconda3/envs/ml3950/lib/python3.9/site-packages (from tensorflow>=2.5.1->gpt-2-simple) (0.2.0)\n",
      "Requirement already satisfied: six>=1.12.0 in /Users/akeems/opt/anaconda3/envs/ml3950/lib/python3.9/site-packages (from tensorflow>=2.5.1->gpt-2-simple) (1.16.0)\n",
      "Requirement already satisfied: wrapt>=1.11.0 in /Users/akeems/opt/anaconda3/envs/ml3950/lib/python3.9/site-packages (from tensorflow>=2.5.1->gpt-2-simple) (1.12.1)\n",
      "Requirement already satisfied: protobuf<3.20,>=3.9.2 in /Users/akeems/opt/anaconda3/envs/ml3950/lib/python3.9/site-packages (from tensorflow>=2.5.1->gpt-2-simple) (3.19.6)\n",
      "Requirement already satisfied: termcolor>=1.1.0 in /Users/akeems/opt/anaconda3/envs/ml3950/lib/python3.9/site-packages (from tensorflow>=2.5.1->gpt-2-simple) (1.1.0)\n",
      "Requirement already satisfied: gast<=0.4.0,>=0.2.1 in /Users/akeems/opt/anaconda3/envs/ml3950/lib/python3.9/site-packages (from tensorflow>=2.5.1->gpt-2-simple) (0.4.0)\n",
      "Requirement already satisfied: libclang>=13.0.0 in /Users/akeems/opt/anaconda3/envs/ml3950/lib/python3.9/site-packages (from tensorflow>=2.5.1->gpt-2-simple) (13.0.0)\n",
      "Requirement already satisfied: tensorboard<2.12,>=2.11 in /Users/akeems/opt/anaconda3/envs/ml3950/lib/python3.9/site-packages (from tensorflow>=2.5.1->gpt-2-simple) (2.11.2)\n",
      "Requirement already satisfied: tensorflow-estimator<2.12,>=2.11.0 in /Users/akeems/opt/anaconda3/envs/ml3950/lib/python3.9/site-packages (from tensorflow>=2.5.1->gpt-2-simple) (2.11.0)\n",
      "Requirement already satisfied: setuptools in /Users/akeems/opt/anaconda3/envs/ml3950/lib/python3.9/site-packages (from tensorflow>=2.5.1->gpt-2-simple) (58.0.4)\n",
      "Requirement already satisfied: astunparse>=1.6.0 in /Users/akeems/opt/anaconda3/envs/ml3950/lib/python3.9/site-packages (from tensorflow>=2.5.1->gpt-2-simple) (1.6.3)\n",
      "Requirement already satisfied: typing-extensions>=3.6.6 in /Users/akeems/opt/anaconda3/envs/ml3950/lib/python3.9/site-packages (from tensorflow>=2.5.1->gpt-2-simple) (4.4.0)\n",
      "Requirement already satisfied: flatbuffers>=2.0 in /Users/akeems/opt/anaconda3/envs/ml3950/lib/python3.9/site-packages (from tensorflow>=2.5.1->gpt-2-simple) (2.0)\n",
      "Requirement already satisfied: wheel<1.0,>=0.23.0 in /Users/akeems/opt/anaconda3/envs/ml3950/lib/python3.9/site-packages (from astunparse>=1.6.0->tensorflow>=2.5.1->gpt-2-simple) (0.37.0)\n",
      "Requirement already satisfied: werkzeug>=1.0.1 in /Users/akeems/opt/anaconda3/envs/ml3950/lib/python3.9/site-packages (from tensorboard<2.12,>=2.11->tensorflow>=2.5.1->gpt-2-simple) (2.0.2)\n",
      "Requirement already satisfied: google-auth-oauthlib<0.5,>=0.4.1 in /Users/akeems/opt/anaconda3/envs/ml3950/lib/python3.9/site-packages (from tensorboard<2.12,>=2.11->tensorflow>=2.5.1->gpt-2-simple) (0.4.6)\n",
      "Requirement already satisfied: tensorboard-data-server<0.7.0,>=0.6.0 in /Users/akeems/opt/anaconda3/envs/ml3950/lib/python3.9/site-packages (from tensorboard<2.12,>=2.11->tensorflow>=2.5.1->gpt-2-simple) (0.6.1)\n",
      "Requirement already satisfied: google-auth<3,>=1.6.3 in /Users/akeems/opt/anaconda3/envs/ml3950/lib/python3.9/site-packages (from tensorboard<2.12,>=2.11->tensorflow>=2.5.1->gpt-2-simple) (2.6.0)\n",
      "Requirement already satisfied: markdown>=2.6.8 in /Users/akeems/opt/anaconda3/envs/ml3950/lib/python3.9/site-packages (from tensorboard<2.12,>=2.11->tensorflow>=2.5.1->gpt-2-simple) (3.3.6)\n",
      "Requirement already satisfied: tensorboard-plugin-wit>=1.6.0 in /Users/akeems/opt/anaconda3/envs/ml3950/lib/python3.9/site-packages (from tensorboard<2.12,>=2.11->tensorflow>=2.5.1->gpt-2-simple) (1.8.1)\n",
      "Requirement already satisfied: rsa<5,>=3.1.4 in /Users/akeems/opt/anaconda3/envs/ml3950/lib/python3.9/site-packages (from google-auth<3,>=1.6.3->tensorboard<2.12,>=2.11->tensorflow>=2.5.1->gpt-2-simple) (4.8)\n",
      "Requirement already satisfied: pyasn1-modules>=0.2.1 in /Users/akeems/opt/anaconda3/envs/ml3950/lib/python3.9/site-packages (from google-auth<3,>=1.6.3->tensorboard<2.12,>=2.11->tensorflow>=2.5.1->gpt-2-simple) (0.2.8)\n",
      "Requirement already satisfied: cachetools<6.0,>=2.0.0 in /Users/akeems/opt/anaconda3/envs/ml3950/lib/python3.9/site-packages (from google-auth<3,>=1.6.3->tensorboard<2.12,>=2.11->tensorflow>=2.5.1->gpt-2-simple) (5.0.0)\n",
      "Requirement already satisfied: requests-oauthlib>=0.7.0 in /Users/akeems/opt/anaconda3/envs/ml3950/lib/python3.9/site-packages (from google-auth-oauthlib<0.5,>=0.4.1->tensorboard<2.12,>=2.11->tensorflow>=2.5.1->gpt-2-simple) (1.3.1)\n",
      "Requirement already satisfied: importlib-metadata>=4.4 in /Users/akeems/opt/anaconda3/envs/ml3950/lib/python3.9/site-packages (from markdown>=2.6.8->tensorboard<2.12,>=2.11->tensorflow>=2.5.1->gpt-2-simple) (4.8.1)\n",
      "Requirement already satisfied: zipp>=0.5 in /Users/akeems/opt/anaconda3/envs/ml3950/lib/python3.9/site-packages (from importlib-metadata>=4.4->markdown>=2.6.8->tensorboard<2.12,>=2.11->tensorflow>=2.5.1->gpt-2-simple) (3.6.0)\n",
      "Requirement already satisfied: pyasn1<0.5.0,>=0.4.6 in /Users/akeems/opt/anaconda3/envs/ml3950/lib/python3.9/site-packages (from pyasn1-modules>=0.2.1->google-auth<3,>=1.6.3->tensorboard<2.12,>=2.11->tensorflow>=2.5.1->gpt-2-simple) (0.4.8)\n",
      "Requirement already satisfied: idna<4,>=2.5 in /Users/akeems/opt/anaconda3/envs/ml3950/lib/python3.9/site-packages (from requests->gpt-2-simple) (3.2)\n",
      "Requirement already satisfied: charset-normalizer~=2.0.0 in /Users/akeems/opt/anaconda3/envs/ml3950/lib/python3.9/site-packages (from requests->gpt-2-simple) (2.0.4)\n",
      "Requirement already satisfied: urllib3<1.27,>=1.21.1 in /Users/akeems/opt/anaconda3/envs/ml3950/lib/python3.9/site-packages (from requests->gpt-2-simple) (1.26.7)\n",
      "Requirement already satisfied: certifi>=2017.4.17 in /Users/akeems/opt/anaconda3/envs/ml3950/lib/python3.9/site-packages (from requests->gpt-2-simple) (2021.10.8)\n",
      "Requirement already satisfied: oauthlib>=3.0.0 in /Users/akeems/opt/anaconda3/envs/ml3950/lib/python3.9/site-packages (from requests-oauthlib>=0.7.0->google-auth-oauthlib<0.5,>=0.4.1->tensorboard<2.12,>=2.11->tensorflow>=2.5.1->gpt-2-simple) (3.2.0)\n",
      "Requirement already satisfied: pyparsing>=2.0.2 in /Users/akeems/opt/anaconda3/envs/ml3950/lib/python3.9/site-packages (from packaging->tensorflow>=2.5.1->gpt-2-simple) (3.0.4)\n"
     ]
    }
   ],
   "source": [
    "!pip install gpt-2-simple"
   ]
  },
  {
   "attachments": {},
   "cell_type": "markdown",
   "metadata": {},
   "source": [
    "# Borrowing GPT2\n",
    "\n",
    "Language models such as the popular GPT2/3/4/chat models are trained on lots of data and are absolutely huge in size. It isn't realistic for us to train a model that is anywhere near that size and sophistication, but we can borrow a model and repurpose it for our use. \n",
    "\n",
    "## Download Model\n",
    "\n",
    "The model itself is pretty large, we are downloading a model that is roughly 500MB, and we are using the smallest model. The large ones are large enough that they are impractical to deal with if we don't have some enterprise scale hardware.\n",
    "\n",
    "##"
   ]
  },
  {
   "cell_type": "code",
   "execution_count": 1,
   "metadata": {},
   "outputs": [
    {
     "name": "stderr",
     "output_type": "stream",
     "text": [
      "2023-03-27 16:19:17.768938: I tensorflow/core/platform/cpu_feature_guard.cc:193] This TensorFlow binary is optimized with oneAPI Deep Neural Network Library (oneDNN) to use the following CPU instructions in performance-critical operations:  AVX2 AVX512F AVX512_VNNI FMA\n",
      "To enable them in other operations, rebuild TensorFlow with the appropriate compiler flags.\n"
     ]
    }
   ],
   "source": [
    "import gpt_2_simple as gpt2\n",
    "import os\n",
    "import requests\n",
    "\n",
    "model_name = \"124M\"\n",
    "if not os.path.isdir(os.path.join(\"models\", model_name)):\n",
    "\tprint(f\"Downloading {model_name} model...\")\n",
    "\tgpt2.download_gpt2(model_name=model_name)   # model is saved into current directory under /models/124M/"
   ]
  },
  {
   "attachments": {},
   "cell_type": "markdown",
   "metadata": {},
   "source": [
    "## Finetune Model\n",
    "\n",
    "We can take the model and tailor it to our use by providing it with some additional text that it can use for fine tuning. "
   ]
  },
  {
   "cell_type": "code",
   "execution_count": 2,
   "metadata": {},
   "outputs": [
    {
     "name": "stderr",
     "output_type": "stream",
     "text": [
      "2023-03-27 16:19:28.046795: I tensorflow/core/platform/cpu_feature_guard.cc:193] This TensorFlow binary is optimized with oneAPI Deep Neural Network Library (oneDNN) to use the following CPU instructions in performance-critical operations:  AVX2 AVX512F AVX512_VNNI FMA\n",
      "To enable them in other operations, rebuild TensorFlow with the appropriate compiler flags.\n"
     ]
    }
   ],
   "source": [
    "file_name = \"shakespeare.txt\"\n",
    "if not os.path.isfile(file_name):\n",
    "\turl = \"https://raw.githubusercontent.com/karpathy/char-rnn/master/data/tinyshakespeare/input.txt\"\n",
    "\tdata = requests.get(url)\n",
    "\n",
    "\twith open(file_name, 'w') as f:\n",
    "\t\tf.write(data.text)\n",
    "\n",
    "\n",
    "\n",
    "#gpt2.finetune(sess,\n",
    "#              file_name,\n",
    "#              model_name=model_name,\n",
    "#              steps=1000)   # steps is max number of training steps\n",
    "sess = gpt2.start_tf_sess()"
   ]
  },
  {
   "attachments": {},
   "cell_type": "markdown",
   "metadata": {},
   "source": [
    "### Generate Text\n",
    "\n",
    "Now that the model is downloaded and fine tuned to our data, we can generate some new text. "
   ]
  },
  {
   "cell_type": "code",
   "execution_count": 4,
   "metadata": {},
   "outputs": [
    {
     "name": "stderr",
     "output_type": "stream",
     "text": [
      "2023-03-27 16:15:47.318110: I tensorflow/compiler/mlir/mlir_graph_optimization_pass.cc:357] MLIR V1 optimization pass is not enabled\n"
     ]
    },
    {
     "name": "stdout",
     "output_type": "stream",
     "text": [
      "Loading checkpoint checkpoint/run1/model-1\n",
      "INFO:tensorflow:Restoring parameters from checkpoint/run1/model-1\n",
      "This article is about the legendary character. You may be looking for Kudri. You may be looking for\n",
      "\n",
      "Kudri is an iconic character in Fallout 4 and Fallout: New Vegas. He is a human male whose name means \"sister\" and who took the name \"Kudri\" from his mother, Mary.\n",
      "\n",
      "Contents show]\n",
      "\n",
      "Biography Edit\n",
      "\n",
      "Kudri was born in the Kudri village of Anvil, a stone's throw from the continent of Tamriel, and grew up in the ruins of an abandoned town. After his mother's death, his father moved to the same town, after which the rest of the family members refused to give him any of their children. Despite the obvious kinship of his mother and father, Kudri's half-human half-human half-boy half-boy, who is named Kudri, was never brought up by his grandmother. He was raised by his son, who is named Kudri, and adopted by his grandmother, who taught him to read and write. He was neglected by his grandmother for about ten years after his father's death. Kudri was not even able to read at all until he was sixteen.\n",
      "\n",
      "The Kudri family was not able to explain the circumstances of his death, and was unable to answer any of the questions they had. However, they did eventually answer some of their questions, and discovered a link between their death and their mother's death. Kudri was later given a suit of armor, which allowed him to perform a number of tasks, and was able to escape his mother's body. The suit of armor was later scattered throughout the Wasteland, and he was later killed by the Courier in the Mojave Wasteland.\n",
      "\n",
      "Kudri has a number of tattoos, such as his left hand, and a much stronger hand that allows him to perform a number of tasks.\n",
      "\n",
      "In Fallout 3, Kudri appears in the Fallout: New Vegas Enhanced Edition as the \"Mother of Kudri\" in the cutscene \"Kudri's Dagger.\" He is voiced by Walter Vogt, with additional edits by Ville.\n",
      "\n",
      "Behind the scenes Edit\n",
      "\n",
      "The name of Kudri is a reference to the name of the character from the original Fallout series, \"The Courier's Wife\".\n",
      "\n",
      "Kudri is a reference to the character from the original Fallout series, \"The Courier's Wife\". Kudri was originally a user of a sewing machine called The Kudri. Though the name was eventually changed to \"Kudri\", it was later used by Fallout 3 voice actor and Fallout 4 voice actor John Woo in the game.\n",
      "\n",
      "In the game, Kudri is voiced by John Woo, though he voiced Kudri before he left to work on the Fallout 3 voice project.<|endoftext|>Usain Bolt's uncle, former Tottenham Hotspur midfielder and potential future England captain, has been named as a new coach of the England Under-21s.\n",
      "\n",
      "The former England captain had been linked with a move back to Tottenham's academy in July but now it appears Bolt has opted to stay at White Hart Lane.\n",
      "\n",
      "Bolt has seen plenty of time at England Under-21s and is now on his way to coaching the Premier League side.\n",
      "\n",
      "\"I am happy to be back in the team and I am delighted to be back in the team,\" Bolt told BBC Radio Manchester.\n",
      "\n",
      "\"I am delighted that I have been given the opportunity to play for England under-21s and I am delighted to have been given the opportunity to play for the Under-21s.\n",
      "\n",
      "\"It has been great to be able to have a chance to be part of the Under-21s again and I want to thank everyone for their support, for having the opportunity to coach for us.\n",
      "\n",
      "\"I am looking forward to working with the players and coaching them for a long time.\"\n",
      "\n",
      "Bolt has a history of success with England Under-21s, with several success stories including Sir Alex Ferguson at the club, Sir Alex Ferguson at Tottenham Hotspur and Tom Cleverley in the Premier League.\n",
      "\n",
      "However, he was not given the opportunity to play for England under-21s until 2012 when he was a free agent.<|endoftext|>It is time to talk about the end of the war against the Islamic State. It is time to talk about the end of the war against the Islamic State.\n",
      "\n",
      "The leaders of the Islamic State's branch, Al Qaeda, have accused the Syrian affiliate of acting on behalf of the group's leader, Gen. Salim Idris, who is in Syria.\n",
      "\n",
      "The conflict began in early April when the Islamic State of Iraq and the Levant (Isil) linked to the Syrian army seized a large chunk of territory in Iraq, Syria and Turkey. The world has been watching the fight in Syria for weeks, and media outlets have reported that ISIL is preparing to take over other key Islamic\n"
     ]
    }
   ],
   "source": [
    "sessA = gpt2.start_tf_sess()\n",
    "gpt2.load_gpt2(sessA)\n",
    "gpt2.generate(sessA, model_name=model_name, length=100, temperature=0.7, nsamples=5, batch_size=5, prefix=\"Where for art thou\")"
   ]
  },
  {
   "attachments": {},
   "cell_type": "markdown",
   "metadata": {},
   "source": [
    "## Alternate Tuning Data\n",
    "\n",
    "We can train our model on some different data, and the fine tuning will adjust it to \"sound more like\" the type of text we feed it. "
   ]
  },
  {
   "cell_type": "code",
   "execution_count": 7,
   "metadata": {},
   "outputs": [
    {
     "name": "stdout",
     "output_type": "stream",
     "text": [
      "Collecting praw\n",
      "  Downloading praw-7.7.0-py3-none-any.whl (189 kB)\n",
      "\u001b[K     |████████████████████████████████| 189 kB 3.0 MB/s eta 0:00:01\n",
      "\u001b[?25hCollecting prawcore<3,>=2.1\n",
      "  Downloading prawcore-2.3.0-py3-none-any.whl (16 kB)\n",
      "Collecting update-checker>=0.18\n",
      "  Downloading update_checker-0.18.0-py3-none-any.whl (7.0 kB)\n",
      "Collecting websocket-client>=0.54.0\n",
      "  Downloading websocket_client-1.5.1-py3-none-any.whl (55 kB)\n",
      "\u001b[K     |████████████████████████████████| 55 kB 10.0 MB/s eta 0:00:01\n",
      "\u001b[?25hRequirement already satisfied: requests<3.0,>=2.6.0 in /Users/akeems/opt/anaconda3/envs/ml3950/lib/python3.9/site-packages (from prawcore<3,>=2.1->praw) (2.26.0)\n",
      "Requirement already satisfied: urllib3<1.27,>=1.21.1 in /Users/akeems/opt/anaconda3/envs/ml3950/lib/python3.9/site-packages (from requests<3.0,>=2.6.0->prawcore<3,>=2.1->praw) (1.26.7)\n",
      "Requirement already satisfied: idna<4,>=2.5 in /Users/akeems/opt/anaconda3/envs/ml3950/lib/python3.9/site-packages (from requests<3.0,>=2.6.0->prawcore<3,>=2.1->praw) (3.2)\n",
      "Requirement already satisfied: certifi>=2017.4.17 in /Users/akeems/opt/anaconda3/envs/ml3950/lib/python3.9/site-packages (from requests<3.0,>=2.6.0->prawcore<3,>=2.1->praw) (2021.10.8)\n",
      "Requirement already satisfied: charset-normalizer~=2.0.0 in /Users/akeems/opt/anaconda3/envs/ml3950/lib/python3.9/site-packages (from requests<3.0,>=2.6.0->prawcore<3,>=2.1->praw) (2.0.4)\n",
      "Installing collected packages: websocket-client, update-checker, prawcore, praw\n",
      "Successfully installed praw-7.7.0 prawcore-2.3.0 update-checker-0.18.0 websocket-client-1.5.1\n"
     ]
    }
   ],
   "source": [
    "!pip install praw"
   ]
  },
  {
   "cell_type": "code",
   "execution_count": 3,
   "metadata": {},
   "outputs": [],
   "source": [
    "import praw\n",
    "\n",
    "# Define user agent\n",
    "user_agent = \"gpt_scrape\"\n",
    "\n",
    "# Create an instance of reddit class\n",
    "reddit = praw.Reddit(username=\"Adventurous_Salt\",\n",
    "                     password=\"mx3CnTXVpWb4Rbp\",\n",
    "                     client_id=\"lJfXwWgNg8by93YL401vyA\",\n",
    "                     client_secret=\"k8sI0o3zCEAnNrsnSgKk55Vp6WinYw\",\n",
    "                     user_agent=user_agent\n",
    ")"
   ]
  },
  {
   "cell_type": "code",
   "execution_count": 8,
   "metadata": {},
   "outputs": [
    {
     "name": "stdout",
     "output_type": "stream",
     "text": [
      "wallstreetbets\n"
     ]
    }
   ],
   "source": [
    "# Create sub-reddit instance\n",
    "subreddit_name = \"wallstreetbets\"\n",
    "subreddit = reddit.subreddit(subreddit_name)\n",
    "# Printing subreddit info\n",
    "print(subreddit.display_name)"
   ]
  },
  {
   "cell_type": "code",
   "execution_count": 9,
   "metadata": {},
   "outputs": [],
   "source": [
    "titles=[]\n",
    "scores=[]\n",
    "ids=[]\n",
    "\n",
    "for submission in subreddit.new(limit=200):\n",
    "    titles.append(submission.title)\n",
    "    scores.append(submission.score) #upvotes\n",
    "    ids.append(submission.id)"
   ]
  },
  {
   "cell_type": "code",
   "execution_count": 6,
   "metadata": {},
   "outputs": [
    {
     "name": "stdout",
     "output_type": "stream",
     "text": [
      "Done\n"
     ]
    }
   ],
   "source": [
    "# open file in write mode\n",
    "with open(r'reddit_dl.txt', 'w') as fp:\n",
    "    for item in titles:\n",
    "        # write each item on a new line\n",
    "        fp.write(\"%s\\n\" % item)\n",
    "    print('Done')"
   ]
  },
  {
   "cell_type": "code",
   "execution_count": 7,
   "metadata": {},
   "outputs": [
    {
     "name": "stderr",
     "output_type": "stream",
     "text": [
      "2023-03-27 16:20:01.731489: I tensorflow/compiler/mlir/mlir_graph_optimization_pass.cc:357] MLIR V1 optimization pass is not enabled\n"
     ]
    },
    {
     "name": "stdout",
     "output_type": "stream",
     "text": [
      "Loading checkpoint checkpoint/run1/model-1\n",
      "INFO:tensorflow:Restoring parameters from checkpoint/run1/model-1\n",
      "Loading dataset...\n"
     ]
    },
    {
     "name": "stderr",
     "output_type": "stream",
     "text": [
      "100%|██████████| 1/1 [00:00<00:00, 125.25it/s]\n"
     ]
    },
    {
     "name": "stdout",
     "output_type": "stream",
     "text": [
      "dataset has 2995 tokens\n",
      "Training...\n",
      "[2 | 53.82] loss=4.67 avg=4.67\n",
      "[3 | 97.58] loss=4.45 avg=4.56\n",
      "[4 | 142.24] loss=4.16 avg=4.42\n",
      "[5 | 187.35] loss=3.90 avg=4.29\n",
      "[6 | 227.30] loss=3.63 avg=4.16\n",
      "[7 | 264.45] loss=3.27 avg=4.01\n",
      "[8 | 303.41] loss=3.17 avg=3.88\n",
      "[9 | 341.77] loss=2.88 avg=3.75\n",
      "[10 | 385.16] loss=3.08 avg=3.68\n",
      "[11 | 428.29] loss=2.47 avg=3.55\n",
      "[12 | 478.04] loss=2.15 avg=3.42\n",
      "[13 | 541.21] loss=2.02 avg=3.29\n",
      "[14 | 584.61] loss=1.95 avg=3.18\n",
      "[15 | 628.79] loss=1.45 avg=3.05\n",
      "[16 | 678.53] loss=1.28 avg=2.93\n",
      "interrupted\n",
      "Saving checkpoint/run1/model-16\n"
     ]
    }
   ],
   "source": [
    "gpt2.finetune(sess,\n",
    "              \"reddit_dl.txt\",\n",
    "              model_name=model_name,\n",
    "              steps=100)   # steps is max number of training steps"
   ]
  },
  {
   "cell_type": "code",
   "execution_count": null,
   "metadata": {},
   "outputs": [],
   "source": [
    "gpt2.generate(sess, model_name=model_name, length=100, temperature=0.7, nsamples=5, batch_size=5, prefix=\"The best way to learn statistics is\")"
   ]
  }
 ],
 "metadata": {
  "kernelspec": {
   "display_name": "ml3950",
   "language": "python",
   "name": "python3"
  },
  "language_info": {
   "codemirror_mode": {
    "name": "ipython",
    "version": 3
   },
   "file_extension": ".py",
   "mimetype": "text/x-python",
   "name": "python",
   "nbconvert_exporter": "python",
   "pygments_lexer": "ipython3",
   "version": "3.9.7"
  },
  "orig_nbformat": 4
 },
 "nbformat": 4,
 "nbformat_minor": 2
}
